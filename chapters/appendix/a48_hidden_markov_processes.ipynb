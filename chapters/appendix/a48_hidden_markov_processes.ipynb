{
 "cells": [
  {
   "cell_type": "markdown",
   "metadata": {},
   "source": [
    "# Processi di Markov Nascosti {#sec-appendix-hidden-markov-processes}\n",
    "\n",
    "## Introduzione \n",
    "\n",
    "Mentre i processi di Markov di primo ordine forniscono un potente strumento per modellare fenomeni in cui il futuro dipende solo dal presente e non dal passato, ci sono situazioni in cui lo stato del sistema non è direttamente osservabile. In tali casi, possiamo utilizzare un'estensione del modello di Markov nota come modello di Markov nascosto o Hidden Markov Model (HMM).\n",
    "\n",
    "Un HMM è un modello statistico in cui il sistema è rappresentato da una sequenza di stati nascosti che seguono un processo di Markov di primo ordine. A differenza dei modelli di Markov tradizionali, però, gli stati stessi non sono osservabili direttamente. Invece, ad ogni stato nascosto corrisponde una variabile osservata, o \"emissione\", che è una manifestazione indiretta dello stato nascosto.\n",
    "\n",
    "### Definizione Formale degli HMM\n",
    "\n",
    "Consideriamo gli **stati latenti**, che rappresentano gli stati dell'umore che possono essere inferiti dai pattern di risposta dei pazienti con disturbo bipolare attraverso item maniacali e depressivi. Un modello di Markov nascosto può essere formalmente definito dai seguenti componenti:\n",
    "\n",
    "1. **Stati Nascosti ($S$):** Un insieme di stati nascosti $S = \\{\\text{neutro}, \\text{elevato}, \\text{misto}, \\text{abbassato}\\}$, dove ogni stato rappresenta una condizione latente del sistema, che non è direttamente osservabile. Questi stati latenti corrispondono a diverse configurazioni dell'umore dei pazienti.\n",
    "\n",
    "2. **Osservazioni ($O$):** Un insieme di osservazioni $O = \\{O_1, O_2, ..., O_M\\}$, in cui ogni osservazione $O_j$ rappresenta un evento misurabile o un dato osservabile, che viene generato in base allo stato nascosto del sistema. Le osservazioni sono correlate agli item maniacali e depressivi riportati dai pazienti.\n",
    "\n",
    "3. **Probabilità di Transizione ($A$):** Una matrice di probabilità di transizione $A = [a_{ij}]$, in cui ogni elemento $a_{ij} = P(S_{t+1} = j \\mid S_t = i)$ rappresenta la probabilità di passare dallo stato nascosto $S_i$ allo stato nascosto $S_j$ in un singolo passo temporale. Questa matrice descrive la dinamica del cambiamento tra stati dell'umore.\n",
    "\n",
    "4. **Probabilità di Emissione ($B$):** Una matrice di probabilità di emissione $B = [b_j(k)]$, in cui ogni elemento $b_j(k) = P(O_t = k \\mid S_t = j)$ rappresenta la probabilità che l’osservazione $O_k$ venga generata quando il sistema è nello stato nascosto $S_j$. Questa matrice connette gli stati latenti con le osservazioni osservabili, modellando come gli stati nascosti influenzano i dati misurati.\n",
    "\n",
    "5. **Probabilità Iniziale ($\\pi$):** Un vettore di probabilità iniziali $\\pi = [\\pi_i]$, dove ogni elemento $\\pi_i = P(S_1 = i)$ rappresenta la probabilità che il sistema inizi nello stato nascosto $S_i$. Questo vettore definisce la distribuzione di probabilità sugli stati nascosti all'inizio del processo di Markov.\n",
    "\n",
    "### Applicazione degli HMM ai Disturbi Bipolari\n",
    "\n",
    "Per continuare l'esempio precedente del disturbo bipolare, un HMM può essere utilizzato per modellare le fluttuazioni dell'umore dei pazienti nel tempo. Consideriamo lo studio di @mildiner2024evidence che esplora l'uso di un HMM per identificare quattro stati dell'umore nei pazienti con disturbo bipolare: *neutro*, *elevato*, *misto* e *abbassato*. Questi stati sono derivati dai dati raccolti attraverso valutazioni momentanee ecologiche (EMA) intensivi, effettuate più volte al giorno.\n",
    "\n",
    "- *Stato Neutro:* Caratterizzato da punteggi bassi sia sugli item maniacali che depressivi del questionario EMA, rappresentando uno stato di equilibrio emotivo.\n",
    "  \n",
    "- *Stato Elevato:* Definito da punteggi alti sugli item maniacali e bassi sugli item depressivi, riflettendo un umore elevato o maniacale.\n",
    "\n",
    "- *Stato Misto:* Presenta una combinazione di sintomi maniacali e depressivi, con punteggi variabili su entrambi i tipi di item.\n",
    "\n",
    "- *Stato Abbassato:* Contraddistinto da punteggi alti sugli item depressivi e bassi su quelli maniacali, indicativo di un umore depresso.\n",
    "\n",
    "## Proprietà Fondamentali degli HMM\n",
    "\n",
    "Gli HMM sono utili per modellare situazioni in cui gli stati del sistema non sono direttamente osservabili ma possono essere inferiti attraverso dati osservabili, come nel caso degli stati dell'umore nei disturbi bipolari. Le proprietà fondamentali degli HMM includono:\n",
    "\n",
    "1. **Processo Markoviano degli Stati Nascosti:** Gli stati nascosti seguono un processo di Markov di primo ordine, il che significa che la probabilità di transizione a uno stato successivo dipende solo dallo stato attuale e non dagli stati precedenti.\n",
    "\n",
    "2. **Indipendenza delle Emissioni:** La probabilità di osservare una determinata emissione dipende solo dallo stato nascosto corrente.\n",
    "\n",
    "3. **Omogeneità Temporale:** Le probabilità di transizione e di emissione rimangono costanti nel tempo, implicando che il comportamento del sistema non cambia lungo il tempo.\n",
    "\n",
    "### Applicazione e Analisi degli HMM\n",
    "\n",
    "L’uso degli HMM per modellare i dati dei disturbi bipolari permette di identificare pattern di instabilità dell'umore e la durata dei diversi stati. Questo tipo di analisi è utile per comprendere meglio le dinamiche del disturbo bipolare e migliorare le strategie di trattamento. Ad esempio, l'HMM applicato ai dati EMA nel documento ha rivelato che i pazienti con disturbo bipolare sperimentano frequenti cambiamenti tra gli stati dell'umore e che gli stati misti spesso mediano le transizioni tra stati elevati e abbassati. Questi risultati suggeriscono che l’instabilità dell’umore è una caratteristica chiave del disturbo bipolare, anche durante periodi relativamente stabili."
   ]
  }
 ],
 "metadata": {
  "kernelspec": {
   "display_name": "cmdstan_env",
   "language": "python",
   "name": "python3"
  },
  "language_info": {
   "codemirror_mode": {
    "name": "ipython",
    "version": 3
   },
   "file_extension": ".py",
   "mimetype": "text/x-python",
   "name": "python",
   "nbconvert_exporter": "python",
   "pygments_lexer": "ipython3",
   "version": "3.12.4"
  }
 },
 "nbformat": 4,
 "nbformat_minor": 2
}
