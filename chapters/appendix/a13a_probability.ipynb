{
 "cells": [
  {
   "attachments": {},
   "cell_type": "markdown",
   "id": "27110a16-34c6-40ce-86cb-4ac702b3514c",
   "metadata": {},
   "source": [
    "# Sigma algebra {#sec-sigma-algebra}"
   ]
  },
  {
   "cell_type": "markdown",
   "id": "417ed2cc-22cd-4838-b5bb-879ec3ecbe8b",
   "metadata": {},
   "source": [
    "Generalmente, non è fattibile assegnare probabilità a tutti i sottoinsiemi di uno spazio campionario $\\Omega$. Invece, si limita l'attenzione a un insieme di eventi chiamato **$\\sigma$-algebra** o **$\\sigma$-campo**, che è una classe $\\mathcal{A}$ che soddisfa le seguenti proprietà:\n",
    "\n",
    "1. **Insieme Vuoto**: $\\varnothing \\in \\mathcal{A}$ (l'insieme vuoto appartiene a $\\mathcal{A}$).\n",
    "2. **Chiusura rispetto all'Unione**: Se $A_1, A_2, \\dots$ sono in $\\mathcal{A}$, allora $\\cup_{i=1}^\\infty A_i \\in \\mathcal{A}$ (l'unione di una sequenza infinita di insiemi in $\\mathcal{A}$ appartiene a $\\mathcal{A}$).\n",
    "3. **Chiusura rispetto al Complemento**: Se $A \\in \\mathcal{A}$, allora $A^c \\in \\mathcal{A}$ (il complemento di un insieme in $\\mathcal{A}$ appartiene a $\\mathcal{A}$).\n",
    "\n",
    "Gli insiemi in $\\mathcal{A}$ sono detti **misurabili**. Chiamiamo $(\\Omega, \\mathcal{A})$ uno **spazio misurabile**. Se $\\mathbb{P}$ è una misura di probabilità definita su $\\mathcal{A}$, allora $(\\Omega, \\mathcal{A}, \\mathbb{P})$ è uno **spazio di probabilità**.\n",
    "\n",
    "Quando $\\Omega$ è la retta reale, prendiamo $\\mathcal{A}$ come il più piccolo $\\sigma$-campo che contiene tutti gli insiemi aperti, chiamato **$\\sigma$-campo di Borel**.\n",
    "\n",
    "## Spiegazione\n",
    "\n",
    "Una $\\sigma$-algebra (o $\\sigma$-campo) è un insieme di sottoinsiemi di uno spazio campionario $\\Omega$ che soddisfa specifiche proprietà. Queste proprietà permettono di definire una struttura matematica per assegnare e calcolare le probabilità in modo consistente. Le proprietà fondamentali di una $\\sigma$-algebra sono:\n",
    "\n",
    "1. **Insieme Vuoto**: L'insieme vuoto $\\varnothing$ deve appartenere alla $\\sigma$-algebra $\\mathcal{A}$. Questo garantisce che anche l'assenza di qualsiasi evento sia considerata.\n",
    "   \n",
    "2. **Chiusura rispetto all'Unione**: Se una sequenza infinita di insiemi $A_1, A_2, \\dots$ appartiene a $\\mathcal{A}$, allora anche la loro unione $\\cup_{i=1}^\\infty A_i$ deve appartenere a $\\mathcal{A}$. Questa proprietà permette di costruire nuovi eventi a partire da unione di eventi già considerati misurabili.\n",
    "   \n",
    "3. **Chiusura rispetto al Complemento**: Se un insieme $A$ appartiene a $\\mathcal{A}$, allora anche il suo complemento $A^c$ deve appartenere a $\\mathcal{A}$. Questa proprietà assicura che, se possiamo misurare un evento, possiamo anche misurare l'evento opposto.\n",
    "\n",
    "## Spazi Misurabili e di Probabilità\n",
    "\n",
    "- **Spazio Misurabile**: Una coppia $(\\Omega, \\mathcal{A})$, dove $\\Omega$ è lo spazio campionario e $\\mathcal{A}$ è una $\\sigma$-algebra su $\\Omega$, è chiamata spazio misurabile. In questo contesto, gli insiemi misurabili sono quelli a cui possiamo assegnare una misura, come la probabilità.\n",
    "  \n",
    "- **Spazio di Probabilità**: Se aggiungiamo una misura di probabilità $\\mathbb{P}$ a uno spazio misurabile $(\\Omega, \\mathcal{A})$, otteniamo uno spazio di probabilità $(\\Omega, \\mathcal{A}, \\mathbb{P})$. La misura di probabilità $\\mathbb{P}$ assegna valori di probabilità a ciascuno degli insiemi in $\\mathcal{A}$ in modo che le proprietà assiomatiche della probabilità siano soddisfatte.\n",
    "\n",
    "## $\\sigma$-campo di Borel\n",
    "\n",
    "Quando lo spazio campionario $\\Omega$ è la retta reale, si usa spesso il $\\sigma$-campo di Borel. Questo è il più piccolo $\\sigma$-campo che contiene tutti gli insiemi aperti della retta reale. È fondamentale per definire la misurabilità e le probabilità su $\\mathbb{R}$, poiché contiene tutti gli insiemi che possiamo considerare \"misurabili\" nella pratica.\n",
    "\n",
    "### Conclusione\n",
    "\n",
    "Le $\\sigma$-algebre permettono di gestire insiemi e misure in modo strutturato e coerente, formando la base matematica per la teoria della probabilità e altre aree dell'analisi matematica. Utilizzando $\\sigma$-algebre, possiamo definire spazi di probabilità che sono essenziali per modellare e analizzare fenomeni aleatori in maniera rigorosa."
   ]
  }
 ],
 "metadata": {
  "kernelspec": {
   "display_name": "pymc",
   "language": "python",
   "name": "python3"
  },
  "language_info": {
   "codemirror_mode": {
    "name": "ipython",
    "version": 3
   },
   "file_extension": ".py",
   "mimetype": "text/x-python",
   "name": "python",
   "nbconvert_exporter": "python",
   "pygments_lexer": "ipython3",
   "version": "3.12.3"
  }
 },
 "nbformat": 4,
 "nbformat_minor": 2
}
