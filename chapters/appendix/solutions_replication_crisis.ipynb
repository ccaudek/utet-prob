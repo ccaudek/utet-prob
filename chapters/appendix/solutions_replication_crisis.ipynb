{
  "cells": [
    {
      "cell_type": "markdown",
      "metadata": {},
      "source": [
        "# Crisi della replicazione {#sec-replication-crisis}"
      ]
    },
    {
      "cell_type": "code",
      "execution_count": 16,
      "metadata": {},
      "outputs": [
        {
          "name": "stdout",
          "output_type": "stream",
          "text": [
            "Project directory: /Users/corradocaudek/_repositories/psicometria\n"
          ]
        }
      ],
      "source": [
        "# Standard library imports\n",
        "import os\n",
        "\n",
        "# Third-party imports\n",
        "import numpy as np\n",
        "import pandas as pd\n",
        "import matplotlib.pyplot as plt\n",
        "import seaborn as sns\n",
        "import arviz as az\n",
        "import scipy.stats as stats\n",
        "from scipy.special import expit  # Funzione logistica\n",
        "from cmdstanpy import cmdstan_path, CmdStanModel\n",
        "\n",
        "# Configuration\n",
        "seed = sum(map(ord, \"stan_poisson_regression\"))\n",
        "rng = np.random.default_rng(seed=seed)\n",
        "az.style.use(\"arviz-darkgrid\")\n",
        "%config InlineBackend.figure_format = \"retina\"\n",
        "\n",
        "# Define directories\n",
        "home_directory = os.path.expanduser(\"~\")\n",
        "project_directory = f\"{home_directory}/_repositories/psicometria\"\n",
        "\n",
        "# Print project directory to verify\n",
        "print(f\"Project directory: {project_directory}\")"
      ]
    },
    {
      "cell_type": "markdown",
      "metadata": {},
      "source": [
        "# @sec-crisis {.unnumbered} \n",
        "\n",
        "@exr-crisis-1\n",
        "\n",
        "Le argomentazioni di @gelman2024statistical mettono in luce fattori come la selezione dei confronti, la variabilità degli effetti tra i soggetti, l'influenza delle condizioni sperimentali, e l'assenza di un chiaro meccanismo d'azione. Questi stessi fattori potrebbero essere stati determinanti nella mancata replicazione dello studio di @karatacs2023thinking. La combinazione di una possibile sovrainterpretazione dei dati iniziali, la presenza di variabili non controllate, e la mancanza di un chiaro modello teorico per spiegare i risultati originali potrebbe aver portato a risultati che non si sono confermati in studi successivi.\n"
      ]
    },
    {
      "cell_type": "markdown",
      "metadata": {},
      "source": [
        "# @sec-errors-s-m {.unnumbered} \n",
        "\n",
        "@exr-s-m-errors-1\n",
        "\n",
        "Il seguente codice è scritto in R. Può essere facilmente convertito in Python.\n",
        "\n",
        "```r\n",
        "set.seed(42)  # Imposta un seed per la riproducibilità\n",
        "\n",
        "n_sim <- 10000  # Numero di simulazioni\n",
        "n_per_group <- 20  # Campioni per gruppo\n",
        "sd_max_fp <- 10  # Deviazione standard scelta per massimizzare i falsi positivi\n",
        "\n",
        "# Vettori per conservare i risultati\n",
        "significant_results <- numeric()\n",
        "effect_sizes <- numeric()\n",
        "\n",
        "for (i in 1:n_sim) {\n",
        "  # Genera due gruppi con media 0 e sd massimizzata\n",
        "  group1 <- rnorm(n_per_group, mean = 0, sd = sd_max_fp)\n",
        "  group2 <- rnorm(n_per_group, mean = 0, sd = sd_max_fp)\n",
        "  \n",
        "  # Esegui il t-test\n",
        "  t_test <- t.test(group1, group2)\n",
        "  \n",
        "  # Calcola l'effect size (d di Cohen)\n",
        "  pooled_sd <- sqrt(((n_per_group - 1) * var(group1) + (n_per_group - 1) * var(group2)) / \n",
        "                      (2 * n_per_group - 2))\n",
        "  cohen_d <- abs(mean(group1) - mean(group2)) / pooled_sd\n",
        "  \n",
        "  # Conserva i risultati solo se significativi\n",
        "  if (t_test$p.value < 0.05) {\n",
        "    significant_results <- c(significant_results, t_test$p.value)\n",
        "    effect_sizes <- c(effect_sizes, cohen_d)\n",
        "  }\n",
        "}\n",
        "\n",
        "# Calcola la proporzione di risultati significativi\n",
        "proportion_significant <- length(significant_results) / n_sim\n",
        "\n",
        "# Calcola l'effect size medio dei risultati significativi\n",
        "mean_effect_size_significant <- mean(effect_sizes)\n",
        "\n",
        "# Stampa i risultati\n",
        "cat(\"Proporzione di risultati statisticamente significativi:\", proportion_significant, \"\\n\")\n",
        "cat(\"Effect size medio dei risultati significativi:\", mean_effect_size_significant, \"\\n\")\n",
        "```"
      ]
    }
  ],
  "metadata": {
    "kernelspec": {
      "display_name": "Python 3 (ipykernel)",
      "language": "python",
      "name": "python3"
    },
    "language_info": {
      "codemirror_mode": {
        "name": "ipython",
        "version": 3
      },
      "file_extension": ".py",
      "mimetype": "text/x-python",
      "name": "python",
      "nbconvert_exporter": "python",
      "pygments_lexer": "ipython3",
      "version": "3.12.4"
    }
  },
  "nbformat": 4,
  "nbformat_minor": 4
}
