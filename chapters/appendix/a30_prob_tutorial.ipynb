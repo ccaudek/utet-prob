{
 "cells": [
  {
   "attachments": {},
   "cell_type": "markdown",
   "id": "5d85a2c8-1315-449b-9f68-66904dd489e6",
   "metadata": {},
   "source": [
    "# Esercizi di probabilità discreta {#sec-disc-prob}"
   ]
  },
  {
   "cell_type": "code",
   "execution_count": 1,
   "id": "627b8995-0af0-400c-96e8-a7078dc0d3bb",
   "metadata": {},
   "outputs": [],
   "source": [
    "import matplotlib.pyplot as plt\n",
    "import numpy as np\n",
    "import pandas as pd\n",
    "import math\n",
    "import seaborn as sns\n",
    "from collections import defaultdict\n",
    "import arviz as az"
   ]
  },
  {
   "cell_type": "code",
   "execution_count": 2,
   "id": "8e8a792b-097a-442a-aeac-d2de931bc268",
   "metadata": {},
   "outputs": [],
   "source": [
    "%config InlineBackend.figure_format = 'retina'\n",
    "RANDOM_SEED = 42\n",
    "rng = np.random.default_rng(RANDOM_SEED)\n",
    "az.style.use(\"arviz-viridish\")"
   ]
  },
  {
   "attachments": {},
   "cell_type": "markdown",
   "id": "04efd8cc-5bb4-4a88-b88f-b7bd76139c36",
   "metadata": {},
   "source": [
    "Considereremo qui alcuni esempi che illustrano come, generando delle liste che corrispondono a spazi campione ed eventi, sia possibile calcolare la probabilità associata agli eventi definiti sullo spazio campione di un esperimento casuale. In questo capitolo ci focalizzeremo su tre esperimenti casuali che producono uno spazio campione discreto: lancio di monete, lancio di dadi, estrazione di carte da un mazzo ben mescolato. Inizieremo ad esaminare il caso del lancio di uno o più dadi e i giochi di carte. In seguito esamineremo delle funzioni specializzate che possono essere usate per modellare l'esperimento casuale corrispondene ad una serie di lanci di una moneta. Prima di fare questo, però, esamineremo alcune funzioni Python utili per il calcolo delle probabilità.\n",
    "\n",
    "**Probabilità di ottenere un numero minore di 4 dal lancio di un dado**\n",
    "\n",
    "Abbiamo già visto in precedenza come generare lo spazio campione dell'esperimento aleatorio che corrisponde al lancio di un dado equilibrato a 6 facce."
   ]
  },
  {
   "cell_type": "code",
   "execution_count": 3,
   "id": "92f9aa0a-62a7-40d3-b0bb-81972917e498",
   "metadata": {},
   "outputs": [
    {
     "data": {
      "text/plain": [
       "[1, 2, 3, 4, 5, 6]"
      ]
     },
     "execution_count": 3,
     "metadata": {},
     "output_type": "execute_result"
    }
   ],
   "source": [
    "sample = [dice1 for dice1 in range(1, 7)]\n",
    "list(sample)"
   ]
  },
  {
   "attachments": {},
   "cell_type": "markdown",
   "id": "8b8eefd5-dbed-4ea0-96a4-89d6eb30ebc1",
   "metadata": {},
   "source": [
    "Su tale spazio campione definiamo un evento."
   ]
  },
  {
   "cell_type": "code",
   "execution_count": 4,
   "id": "e0040685-fc9d-4be1-ae9a-96f82a092638",
   "metadata": {},
   "outputs": [
    {
     "name": "stdout",
     "output_type": "stream",
     "text": [
      "[1, 2, 3]\n"
     ]
    }
   ],
   "source": [
    "event = [roll for roll in sample if roll < 4]\n",
    "print(list(event))"
   ]
  },
  {
   "attachments": {},
   "cell_type": "markdown",
   "id": "d485eb8b-f12b-45b1-a323-71456ea9af00",
   "metadata": {},
   "source": [
    "Calcoliamo la probabilità di osservare l'evento che abbiamo definito."
   ]
  },
  {
   "cell_type": "code",
   "execution_count": 5,
   "id": "901ea97c-9580-4498-b5be-8890e4eaa466",
   "metadata": {},
   "outputs": [
    {
     "name": "stdout",
     "output_type": "stream",
     "text": [
      "La probabilità dell'evento è 3/6.\n"
     ]
    }
   ],
   "source": [
    "print(f\"La probabilità dell'evento è {len(event)}/{len(sample)}.\")"
   ]
  },
  {
   "attachments": {},
   "cell_type": "markdown",
   "id": "20bdf7b7-a76f-4906-957f-08d58adf07d6",
   "metadata": {},
   "source": [
    "**La probabilità di ottenere almeno un 6 dal lancio di due dadi**\n",
    "\n",
    "Consideriamo un caso un po' più complesso, ma che abbiamo già incontrato in precedenza. Iniziamo nuovamente a definire lo spazio campione dell'esperimento casuale. Si noti la sintassi della *list comprehension*."
   ]
  },
  {
   "cell_type": "code",
   "execution_count": 6,
   "id": "a389857b-b200-4c14-b506-088848b446ac",
   "metadata": {},
   "outputs": [
    {
     "data": {
      "text/plain": [
       "[(1, 1),\n",
       " (1, 2),\n",
       " (1, 3),\n",
       " (1, 4),\n",
       " (1, 5),\n",
       " (1, 6),\n",
       " (2, 1),\n",
       " (2, 2),\n",
       " (2, 3),\n",
       " (2, 4),\n",
       " (2, 5),\n",
       " (2, 6),\n",
       " (3, 1),\n",
       " (3, 2),\n",
       " (3, 3),\n",
       " (3, 4),\n",
       " (3, 5),\n",
       " (3, 6),\n",
       " (4, 1),\n",
       " (4, 2),\n",
       " (4, 3),\n",
       " (4, 4),\n",
       " (4, 5),\n",
       " (4, 6),\n",
       " (5, 1),\n",
       " (5, 2),\n",
       " (5, 3),\n",
       " (5, 4),\n",
       " (5, 5),\n",
       " (5, 6),\n",
       " (6, 1),\n",
       " (6, 2),\n",
       " (6, 3),\n",
       " (6, 4),\n",
       " (6, 5),\n",
       " (6, 6)]"
      ]
     },
     "execution_count": 6,
     "metadata": {},
     "output_type": "execute_result"
    }
   ],
   "source": [
    "sample = [(dice1, dice2) for dice1 in range(1, 7) for dice2 in range(1, 7)]\n",
    "sample"
   ]
  },
  {
   "attachments": {},
   "cell_type": "markdown",
   "id": "b25cfac6-d4ed-4855-82f7-d45b01dd5975",
   "metadata": {},
   "source": [
    "L'evento definito dal problema si verifica se è vera la condizione `roll[0] == 6` (si ottiene un 6 con il primo dado) oppure se si verifica la condizione `roll[1]` (si ottiene un 6 con il secondo dado), oppure se si verificano entrambe. Si noti il connettivo logico `or`."
   ]
  },
  {
   "cell_type": "code",
   "execution_count": 7,
   "id": "1d49124e-f71b-4d49-a145-c8079c0e6bd1",
   "metadata": {},
   "outputs": [
    {
     "data": {
      "text/plain": [
       "[(1, 6),\n",
       " (2, 6),\n",
       " (3, 6),\n",
       " (4, 6),\n",
       " (5, 6),\n",
       " (6, 1),\n",
       " (6, 2),\n",
       " (6, 3),\n",
       " (6, 4),\n",
       " (6, 5),\n",
       " (6, 6)]"
      ]
     },
     "execution_count": 7,
     "metadata": {},
     "output_type": "execute_result"
    }
   ],
   "source": [
    "event = [roll for roll in sample if roll[0] == 6 or roll[1] == 6]\n",
    "event"
   ]
  },
  {
   "cell_type": "code",
   "execution_count": 8,
   "id": "995d61ac-4d0b-4532-9718-22dd1d755bc5",
   "metadata": {},
   "outputs": [
    {
     "name": "stdout",
     "output_type": "stream",
     "text": [
      "11 / 36\n"
     ]
    }
   ],
   "source": [
    "print(f\"{len(event)} / {len(sample)}\")"
   ]
  },
  {
   "attachments": {},
   "cell_type": "markdown",
   "id": "9774b07d-a492-4928-b323-a30ed8c45d9b",
   "metadata": {},
   "source": [
    "**La probabilità di non ottenere neppure un 6 dal lancio di due dadi**\n",
    "\n",
    "La soluzione di questo problema richiede che si neghino le due condizioni definite in precedenza."
   ]
  },
  {
   "cell_type": "code",
   "execution_count": 9,
   "id": "de4ca629-0736-4eb6-b9aa-cbeeac0ca60c",
   "metadata": {},
   "outputs": [
    {
     "data": {
      "text/plain": [
       "[(1, 1),\n",
       " (1, 2),\n",
       " (1, 3),\n",
       " (1, 4),\n",
       " (1, 5),\n",
       " (2, 1),\n",
       " (2, 2),\n",
       " (2, 3),\n",
       " (2, 4),\n",
       " (2, 5),\n",
       " (3, 1),\n",
       " (3, 2),\n",
       " (3, 3),\n",
       " (3, 4),\n",
       " (3, 5),\n",
       " (4, 1),\n",
       " (4, 2),\n",
       " (4, 3),\n",
       " (4, 4),\n",
       " (4, 5),\n",
       " (5, 1),\n",
       " (5, 2),\n",
       " (5, 3),\n",
       " (5, 4),\n",
       " (5, 5)]"
      ]
     },
     "execution_count": 9,
     "metadata": {},
     "output_type": "execute_result"
    }
   ],
   "source": [
    "event = [roll for roll in sample if roll[0] != 6 and roll[1] != 6]\n",
    "event"
   ]
  },
  {
   "cell_type": "code",
   "execution_count": 10,
   "id": "df7eedd4-6284-4910-90f0-177da7a6c227",
   "metadata": {},
   "outputs": [
    {
     "name": "stdout",
     "output_type": "stream",
     "text": [
      "25 / 36\n"
     ]
    }
   ],
   "source": [
    "print(f\"{len(event)} / {len(sample)}\")"
   ]
  },
  {
   "attachments": {},
   "cell_type": "markdown",
   "id": "10784355-b3fe-435a-b022-4ae1553a9627",
   "metadata": {},
   "source": [
    "In maniera equivalente, la soluzione è data dalla probabilità dell'evento complementare a quello definito dal problema precedente: 1 - 11/36.\n",
    "\n",
    "**La probabilità che lanciando contemporaneamente due dadi a 6 facce la somma faccia 4**\n",
    "\n",
    "In questo caso la condizione logica che viene definita nella *list comprehension* è `if sum(roll) == 4`."
   ]
  },
  {
   "cell_type": "code",
   "execution_count": 11,
   "id": "87c97d3d-d8e4-4487-b591-91eb05729de8",
   "metadata": {},
   "outputs": [
    {
     "data": {
      "text/plain": [
       "[(1, 3), (2, 2), (3, 1)]"
      ]
     },
     "execution_count": 11,
     "metadata": {},
     "output_type": "execute_result"
    }
   ],
   "source": [
    "event = [roll for roll in sample if sum(roll) == 4]\n",
    "event"
   ]
  },
  {
   "attachments": {},
   "cell_type": "markdown",
   "id": "dbfcba9e-6445-406f-961c-a52e34103dae",
   "metadata": {},
   "source": [
    "Troviamo la probabilità."
   ]
  },
  {
   "cell_type": "code",
   "execution_count": 12,
   "id": "e3e50a66-f4e4-42b3-a680-5d00e35c0509",
   "metadata": {},
   "outputs": [
    {
     "name": "stdout",
     "output_type": "stream",
     "text": [
      "3 / 36\n"
     ]
    }
   ],
   "source": [
    "print(f\"{len(event)} / {len(sample)}\")"
   ]
  },
  {
   "attachments": {},
   "cell_type": "markdown",
   "id": "64667d66-f466-4e9e-83be-7f9957eb86a2",
   "metadata": {},
   "source": [
    "**La probabilità che lanciando contemporaneamente tre dadi a 6 facce la somma faccia 10**\n",
    "\n",
    "Questo problema è solo una variante del problema precedente.  L'unica differenza di rilievo è che dobbiamo costruire uno spazio campione corrispondente al prodotto cartesiano dell'insieme dei punti di un dado elevato alla terza potenza."
   ]
  },
  {
   "cell_type": "code",
   "execution_count": 13,
   "id": "775a57f5-953f-48f3-8eca-70c9a131d3d5",
   "metadata": {},
   "outputs": [
    {
     "name": "stdout",
     "output_type": "stream",
     "text": [
      "[(1, 3, 6), (1, 4, 5), (1, 5, 4), (1, 6, 3), (2, 2, 6), (2, 3, 5), (2, 4, 4), (2, 5, 3), (2, 6, 2), (3, 1, 6), (3, 2, 5), (3, 3, 4), (3, 4, 3), (3, 5, 2), (3, 6, 1), (4, 1, 5), (4, 2, 4), (4, 3, 3), (4, 4, 2), (4, 5, 1), (5, 1, 4), (5, 2, 3), (5, 3, 2), (5, 4, 1), (6, 1, 3), (6, 2, 2), (6, 3, 1)]\n",
      "27 / 216\n"
     ]
    }
   ],
   "source": [
    "r = range(1, 7)\n",
    "sample = [(i, j, k) for i in r for j in r for k in r]\n",
    "event = [roll for roll in sample if sum(roll) == 10]\n",
    "print(event)\n",
    "print(f\"{len(event)} / {len(sample)}\")"
   ]
  },
  {
   "attachments": {},
   "cell_type": "markdown",
   "id": "d7ef4f47-f8cb-417d-ad0c-532de351a3ae",
   "metadata": {},
   "source": [
    "**La probabilità che lanciando contemporaneamente quattro dadi a 6 facce la somma faccia 13**\n",
    "\n",
    "La struttura logica è identica alla precedente, aumenta solo la dimensione dello spazio campione."
   ]
  },
  {
   "cell_type": "code",
   "execution_count": 14,
   "id": "aacc2656-ac99-4e5c-a832-49611fe17d39",
   "metadata": {},
   "outputs": [
    {
     "name": "stdout",
     "output_type": "stream",
     "text": [
      "140 / 1296\n"
     ]
    }
   ],
   "source": [
    "r = range(1, 7)\n",
    "sample = [(i, j, k, l) for i in r for j in r for k in r for l in r]\n",
    "event = [roll for roll in sample if sum(roll) == 13]\n",
    "print(f\"{len(event)} / {len(sample)}\")"
   ]
  },
  {
   "attachments": {},
   "cell_type": "markdown",
   "id": "67825929-6460-4ea5-b27e-c72c6f1a1706",
   "metadata": {},
   "source": [
    "**La probabilità di ottenere un 6 e un altro numero (diverso da 6) nel lancio di due dadi a 6 facce**\n",
    "\n",
    "Questo problema introduce un nuovo modo per valutare una condizione logica in riferimento allo spazio campione.  Il problema dice che dobbiamo ottenere solo un 6, con il primo o con il secondo dado, ma non con entrambi. Dobbiamo dunque esaminare ciascun punto dello spazio campione (una tupla di due elementi) e verificare se contiene un solo 6. Per fare questo definiamo la funzione `numsix()` che prende come argomento una tupla e ritorna il numero di 6 che ha trovato. Avendo definito questa funzione, la applichiamo a tutti i punti dello spazio campione e estraiamo gli elementi nei quali la funzione ritorna 1 (ovvero, i punti campione nei quali c'è un solo 6)."
   ]
  },
  {
   "cell_type": "code",
   "execution_count": 15,
   "id": "531fed80-b3ab-40ab-ad09-0fd5091759ed",
   "metadata": {},
   "outputs": [
    {
     "name": "stdout",
     "output_type": "stream",
     "text": [
      "[(1, 6), (2, 6), (3, 6), (4, 6), (5, 6), (6, 1), (6, 2), (6, 3), (6, 4), (6, 5)]\n"
     ]
    }
   ],
   "source": [
    "sample = [(i, j) for i in r for j in r]\n",
    "\n",
    "\n",
    "def numsix(roll):\n",
    "    return len([dice for dice in roll if dice == 6])\n",
    "\n",
    "\n",
    "event = [roll for roll in sample if numsix(roll) == 1]\n",
    "print(event)"
   ]
  },
  {
   "attachments": {},
   "cell_type": "markdown",
   "id": "cf50064b-05b4-4c82-9097-c0ca26e127fe",
   "metadata": {},
   "source": [
    "La probabilità cercata è dunque 10/36."
   ]
  },
  {
   "cell_type": "code",
   "execution_count": 16,
   "id": "ae24609e-f822-46f0-a5f9-8f3784e4fd5a",
   "metadata": {},
   "outputs": [
    {
     "name": "stdout",
     "output_type": "stream",
     "text": [
      "10 / 36\n"
     ]
    }
   ],
   "source": [
    "print(f\"{len(event)} / {len(sample)}\")"
   ]
  },
  {
   "attachments": {},
   "cell_type": "markdown",
   "id": "b49626e6-9049-452a-8514-385cba110cd2",
   "metadata": {},
   "source": [
    "**La probabilità di ottenere un 6 e un altro numero (diverso da 6) nel lancio di quattro dadi a 6 facce**\n",
    "\n",
    "Questo problema è simile al precedente, ma considera uno spazio campione più grande."
   ]
  },
  {
   "cell_type": "code",
   "execution_count": 17,
   "id": "1be4fc08-98f7-4cd9-af65-dbc10c162383",
   "metadata": {},
   "outputs": [
    {
     "name": "stdout",
     "output_type": "stream",
     "text": [
      "500 / 1296\n"
     ]
    }
   ],
   "source": [
    "sample = [(i, j, k, l) for i in r for j in r for k in r for l in r]\n",
    "\n",
    "event = [roll for roll in sample if numsix(roll) == 1]\n",
    "print(f\"{len(event)} / {len(sample)}\")"
   ]
  },
  {
   "attachments": {},
   "cell_type": "markdown",
   "id": "d1752316-e597-48ee-81a2-9db28c2be1e1",
   "metadata": {},
   "source": [
    "**La probabilità di ottenere tre 6 e un altro numero (diverso da 6) nel lancio di quattro dadi a 6 facce**\n",
    "\n",
    "Qui cambia solo la quantificazione della condizione logica usata prima."
   ]
  },
  {
   "cell_type": "code",
   "execution_count": 18,
   "id": "3a2580c4-2d33-43fd-81bf-c7b07c810db4",
   "metadata": {},
   "outputs": [
    {
     "name": "stdout",
     "output_type": "stream",
     "text": [
      "20 / 1296\n"
     ]
    }
   ],
   "source": [
    "event = [roll for roll in sample if numsix(roll)==3]\n",
    "print(f\"{len(event)} / {len(sample)}\")"
   ]
  },
  {
   "attachments": {},
   "cell_type": "markdown",
   "id": "0d706480-38a7-4957-b7cf-5b5c7f16600b",
   "metadata": {},
   "source": [
    "Esaminiamo ora alcuni esempio relativi ai giochi di carte. Per questi scopi abbiamo bisogno di generare degli spazi campione che corrispondono a selezioni di elementi nelle quali l'ordine non conta e gli elementi non possono essere ripetuti. Questa è la definizione di una combinazione semplice -- si veda la sezione {ref}`combinazione-semplice-section`. Importiamo la funzione `combinations` da `itertools`."
   ]
  },
  {
   "cell_type": "code",
   "execution_count": 19,
   "id": "d764b435-7a02-48e1-b4f3-eef3fedcf36f",
   "metadata": {},
   "outputs": [],
   "source": [
    "from itertools import combinations, product"
   ]
  },
  {
   "attachments": {},
   "cell_type": "markdown",
   "id": "01f43ccb-fdc4-4d41-8292-fd475af3fc05",
   "metadata": {},
   "source": [
    "Per chiarire la procedura, iniziamo a considerare un mazzo di carte molto piccolo, in cui abbiamo solo due semi e tre numeri. Generiamo il mazzo di carte."
   ]
  },
  {
   "cell_type": "code",
   "execution_count": 20,
   "id": "db21af89-d092-4063-863d-ddbeec404596",
   "metadata": {},
   "outputs": [
    {
     "data": {
      "text/plain": [
       "[(1, 1), (1, 2), (1, 3), (2, 1), (2, 2), (2, 3)]"
      ]
     },
     "execution_count": 20,
     "metadata": {},
     "output_type": "execute_result"
    }
   ],
   "source": [
    "cards = list(product(range(1,3), range(1,4)))\n",
    "cards"
   ]
  },
  {
   "attachments": {},
   "cell_type": "markdown",
   "id": "af9d42fb-5311-4fe7-b8cc-dc657347842a",
   "metadata": {},
   "source": [
    "Diciamo che il primo valore di ciascuna delle precedenti coppie di numeri corrisponde al seme e il secondo valore corrisponde al numero. Se vogliamo, possiamo immaginare cuori e picche con i numeri 1, 2, 3. \n",
    "\n",
    "Iniziamo a chiederci quante mani di due carte siano possibili per questo mazzo di carte. Ci sono 15 possibilità. Usiamo la formula delle combinazioni semplici."
   ]
  },
  {
   "cell_type": "code",
   "execution_count": 21,
   "id": "91fe9e80-b311-4fa0-9acf-2bc9dae25bdb",
   "metadata": {},
   "outputs": [
    {
     "data": {
      "text/plain": [
       "15"
      ]
     },
     "execution_count": 21,
     "metadata": {},
     "output_type": "execute_result"
    }
   ],
   "source": [
    "math.comb(6, 2)"
   ]
  },
  {
   "attachments": {},
   "cell_type": "markdown",
   "id": "e935138f-7bda-467a-a7d5-530d327c4109",
   "metadata": {},
   "source": [
    "Elenchiamo tutte le possibili combinazioni semplici."
   ]
  },
  {
   "cell_type": "code",
   "execution_count": 22,
   "id": "7d1770bd-a71b-45f7-aea8-9fe8d92edb56",
   "metadata": {},
   "outputs": [
    {
     "data": {
      "text/plain": [
       "[((1, 1), (1, 2)),\n",
       " ((1, 1), (1, 3)),\n",
       " ((1, 1), (2, 1)),\n",
       " ((1, 1), (2, 2)),\n",
       " ((1, 1), (2, 3)),\n",
       " ((1, 2), (1, 3)),\n",
       " ((1, 2), (2, 1)),\n",
       " ((1, 2), (2, 2)),\n",
       " ((1, 2), (2, 3)),\n",
       " ((1, 3), (2, 1)),\n",
       " ((1, 3), (2, 2)),\n",
       " ((1, 3), (2, 3)),\n",
       " ((2, 1), (2, 2)),\n",
       " ((2, 1), (2, 3)),\n",
       " ((2, 2), (2, 3))]"
      ]
     },
     "execution_count": 22,
     "metadata": {},
     "output_type": "execute_result"
    }
   ],
   "source": [
    "sample = list(combinations(cards, 2))\n",
    "sample"
   ]
  },
  {
   "cell_type": "code",
   "execution_count": 23,
   "id": "cc764ccd-1674-4f15-85b2-372fa43f4521",
   "metadata": {},
   "outputs": [
    {
     "data": {
      "text/plain": [
       "15"
      ]
     },
     "execution_count": 23,
     "metadata": {},
     "output_type": "execute_result"
    }
   ],
   "source": [
    "len(sample)"
   ]
  },
  {
   "attachments": {},
   "cell_type": "markdown",
   "id": "30092b5d-022a-4889-879b-6c5604d32658",
   "metadata": {},
   "source": [
    "Chiediamoci ora quale sia la probabilità di una coppia di assi. Ovviamente nello spazio campione precedente c'è solo un modo di ottenere una coppia di assi: ((1, 1), (2, 1)). Ma poniamoci il problema di trovare questa soluzione in maniera algoritmica."
   ]
  },
  {
   "cell_type": "code",
   "execution_count": 24,
   "id": "2b71cdf7-1a4e-414c-a4f3-02b8993e733c",
   "metadata": {},
   "outputs": [
    {
     "name": "stdout",
     "output_type": "stream",
     "text": [
      "1 / 15\n"
     ]
    }
   ],
   "source": [
    "def numval(hand, val):\n",
    "    return len([card for card in hand if card[1] == val])\n",
    "\n",
    "\n",
    "def numace(hand):\n",
    "    return numval(hand, 1)\n",
    "\n",
    "\n",
    "event = [hand for hand in sample if numace(hand) == 2]\n",
    "print(f\"{len(event)} / {len(sample)}\")"
   ]
  },
  {
   "attachments": {},
   "cell_type": "markdown",
   "id": "d4dfe478-70c0-476f-b391-68a8328ca52c",
   "metadata": {},
   "source": [
    "**La probabilità di un pocker d'assi**\n",
    "\n",
    "Ora che abbiamo capito come fare, possiamo usare la procedura descritta sopra per calcolare un evento più interessante, ovvero la probabilità di ottenere un pocker d'assi in un regolare mazzo da pocker di 52 carte. Iniziamo trovando il numero di possibili di mani di 5 carte:"
   ]
  },
  {
   "cell_type": "code",
   "execution_count": 25,
   "id": "bf827e37-81b1-4374-b03d-1248418c642e",
   "metadata": {},
   "outputs": [
    {
     "data": {
      "text/plain": [
       "2598960"
      ]
     },
     "execution_count": 25,
     "metadata": {},
     "output_type": "execute_result"
    }
   ],
   "source": [
    "cards = list(product(range(1,5), range(1,14)))\n",
    "sample = list(combinations(cards, 5))\n",
    "len(sample)"
   ]
  },
  {
   "attachments": {},
   "cell_type": "markdown",
   "id": "b04ca518-e94e-4024-830a-66101fc1a30b",
   "metadata": {},
   "source": [
    "Troviamo ora la probabilità di un pocker d'assi."
   ]
  },
  {
   "cell_type": "code",
   "execution_count": 26,
   "id": "46a92918-19a4-4126-9453-503d98c59a89",
   "metadata": {},
   "outputs": [
    {
     "name": "stdout",
     "output_type": "stream",
     "text": [
      "48 / 2598960\n"
     ]
    }
   ],
   "source": [
    "event = [hand for hand in sample if numace(hand) == 4]\n",
    "print(f\"{len(event)} / {len(sample)}\")"
   ]
  },
  {
   "attachments": {},
   "cell_type": "markdown",
   "id": "b3e8970a-93db-4d71-92dd-d05d38926917",
   "metadata": {},
   "source": [
    "**La probabilità di una coppia d'assi e una coppia di Jack**\n",
    "\n",
    "In una variante di questo problema, troviamo la probabilità di una coppia d'assi e una coppia di Jack:"
   ]
  },
  {
   "cell_type": "code",
   "execution_count": 27,
   "id": "5b7dba92-207e-4990-ba78-8314cfa033ad",
   "metadata": {},
   "outputs": [
    {
     "name": "stdout",
     "output_type": "stream",
     "text": [
      "1584 / 2598960\n"
     ]
    }
   ],
   "source": [
    "def numjack(hand):\n",
    "    return numval(hand, 11)\n",
    "\n",
    "\n",
    "event = [hand for hand in sample if numace(hand) == 2 and numjack(hand) == 2]\n",
    "print(f\"{len(event)} / {len(sample)}\")"
   ]
  },
  {
   "attachments": {},
   "cell_type": "markdown",
   "id": "edbace73-7388-4ec0-96f1-3bf01b73ff4d",
   "metadata": {},
   "source": [
    "Concludiamo con alcuni esempi discussi nel secondo capitolo del testo di {cite:t}`unpingco2022python`.\n",
    "\n",
    "Consideriamo nuovamente l'esperimento casuale corrispondente al lancio di due dati equilibrati. Sia $X$ la v.c. corrispondente alla somma dei punti prodotti dai due lanci. Poniamoci il problema di trovare la distribuzione di massa di probabilità di $X$ e la probabilità associata a diversi eventi. Vedremo qui una procedura alternativa per risolvere questo problema rispetto quella discussa in precedenza.\n",
    "\n",
    "Per affrontare questo problema, {cite:t}`unpingco2022python` inizia a costruire un dizionario Python i cui elementi sono i punti del prodotto cartesiano i cui elementi sono della forma (a,b), dove $a$ appartiene ad $A$ = {1, 2, 3, 4, 5, 6} (punti del primo dado) e $b$ appartiene a $B$ = {1, 2, 3, 4, 5, 6} (punti del secondo dado). "
   ]
  },
  {
   "cell_type": "code",
   "execution_count": 28,
   "id": "77d8cc4d-7005-4755-9434-e45212fc583e",
   "metadata": {},
   "outputs": [
    {
     "data": {
      "text/plain": [
       "{(1, 1): 2,\n",
       " (1, 2): 3,\n",
       " (1, 3): 4,\n",
       " (1, 4): 5,\n",
       " (1, 5): 6,\n",
       " (1, 6): 7,\n",
       " (2, 1): 3,\n",
       " (2, 2): 4,\n",
       " (2, 3): 5,\n",
       " (2, 4): 6,\n",
       " (2, 5): 7,\n",
       " (2, 6): 8,\n",
       " (3, 1): 4,\n",
       " (3, 2): 5,\n",
       " (3, 3): 6,\n",
       " (3, 4): 7,\n",
       " (3, 5): 8,\n",
       " (3, 6): 9,\n",
       " (4, 1): 5,\n",
       " (4, 2): 6,\n",
       " (4, 3): 7,\n",
       " (4, 4): 8,\n",
       " (4, 5): 9,\n",
       " (4, 6): 10,\n",
       " (5, 1): 6,\n",
       " (5, 2): 7,\n",
       " (5, 3): 8,\n",
       " (5, 4): 9,\n",
       " (5, 5): 10,\n",
       " (5, 6): 11,\n",
       " (6, 1): 7,\n",
       " (6, 2): 8,\n",
       " (6, 3): 9,\n",
       " (6, 4): 10,\n",
       " (6, 5): 11,\n",
       " (6, 6): 12}"
      ]
     },
     "execution_count": 28,
     "metadata": {},
     "output_type": "execute_result"
    }
   ],
   "source": [
    "d = {(i, j): i + j for i in range(1, 7) for j in range(1, 7)}\n",
    "d"
   ]
  },
  {
   "attachments": {},
   "cell_type": "markdown",
   "id": "474a3da6-c2c5-46b6-a8e9-611735f783c9",
   "metadata": {},
   "source": [
    "Il passo successivo è quello di raccogliere tutte le coppie (a,b) la cui somma corrisponde a ciascuno dei possibili valori da 2 a 12. Per fare questo, {cite:t}`unpingco2022python` utilizza la funzione `defaultdict()`:"
   ]
  },
  {
   "cell_type": "code",
   "execution_count": 29,
   "id": "f114ef36-1e94-4dad-87ed-6b86adef6afe",
   "metadata": {},
   "outputs": [
    {
     "data": {
      "text/plain": [
       "defaultdict(list,\n",
       "            {2: [(1, 1)],\n",
       "             3: [(1, 2), (2, 1)],\n",
       "             4: [(1, 3), (2, 2), (3, 1)],\n",
       "             5: [(1, 4), (2, 3), (3, 2), (4, 1)],\n",
       "             6: [(1, 5), (2, 4), (3, 3), (4, 2), (5, 1)],\n",
       "             7: [(1, 6), (2, 5), (3, 4), (4, 3), (5, 2), (6, 1)],\n",
       "             8: [(2, 6), (3, 5), (4, 4), (5, 3), (6, 2)],\n",
       "             9: [(3, 6), (4, 5), (5, 4), (6, 3)],\n",
       "             10: [(4, 6), (5, 5), (6, 4)],\n",
       "             11: [(5, 6), (6, 5)],\n",
       "             12: [(6, 6)]})"
      ]
     },
     "execution_count": 29,
     "metadata": {},
     "output_type": "execute_result"
    }
   ],
   "source": [
    "dinv = defaultdict(list)\n",
    "for i, j in d.items():\n",
    "    dinv[j].append(i)\n",
    "\n",
    "dinv"
   ]
  },
  {
   "attachments": {},
   "cell_type": "markdown",
   "id": "6439b4c0-3c14-4131-99f3-7172bec51da4",
   "metadata": {},
   "source": [
    "A questo punto è possibile ottenere una lista di tutte le coppie la cui somma è 7, per esempio:"
   ]
  },
  {
   "cell_type": "code",
   "execution_count": 30,
   "id": "a1af018a-b82f-4f3e-bc8f-5451a5f7fb3d",
   "metadata": {},
   "outputs": [
    {
     "data": {
      "text/plain": [
       "[(1, 6), (2, 5), (3, 4), (4, 3), (5, 2), (6, 1)]"
      ]
     },
     "execution_count": 30,
     "metadata": {},
     "output_type": "execute_result"
    }
   ],
   "source": [
    "dinv[7]"
   ]
  },
  {
   "attachments": {},
   "cell_type": "markdown",
   "id": "ef0dfd8a-a96b-4f88-9ac3-8dde36b5684f",
   "metadata": {},
   "source": [
    "Il passo successivo consiste nel calcolare la probabilità misurata per ciascun elemento di `dinv`. Utilizzando l'ipotesi di indipendenza, ciò significa che dobbiamo calcolare la somma dei prodotti delle probabilità dei singoli elementi in dinv. Poiché sappiamo che ogni risultato è ugualmente probabile, la probabilità di ogni termine nella somma è uguale a 1/36. Pertanto, tutto ciò che dobbiamo fare è contare il numero di elementi nell'elenco corrispondente per ogni key in `dinv` e dividere per 36. Ad esempio, `dinv[11]` contiene [(5, 6), (6, 5)]. La probabilità di 5+6=6+5=11 è la probabilità di questo insieme, che è composto dalla somma delle probabilità dei singoli elementi {(5,6),(6,5)}. In questo caso, abbiamo P(11) = P({(5, 6)}) + P({(6, 5)}) = 1/36 + 1/36 = 2/36. Ripetendo questa procedura per tutti gli elementi, deriviamo la funzione di massa di probabilità come mostrato di seguito:"
   ]
  },
  {
   "cell_type": "code",
   "execution_count": 31,
   "id": "c1ed865c-2c5b-4a4e-8860-acec09c8e38c",
   "metadata": {},
   "outputs": [
    {
     "data": {
      "text/plain": [
       "{2: 0.027777777777777776,\n",
       " 3: 0.05555555555555555,\n",
       " 4: 0.08333333333333333,\n",
       " 5: 0.1111111111111111,\n",
       " 6: 0.1388888888888889,\n",
       " 7: 0.16666666666666666,\n",
       " 8: 0.1388888888888889,\n",
       " 9: 0.1111111111111111,\n",
       " 10: 0.08333333333333333,\n",
       " 11: 0.05555555555555555,\n",
       " 12: 0.027777777777777776}"
      ]
     },
     "execution_count": 31,
     "metadata": {},
     "output_type": "execute_result"
    }
   ],
   "source": [
    "X = {i: len(j) / 36.0 for i, j in dinv.items()}\n",
    "X\n"
   ]
  },
  {
   "attachments": {},
   "cell_type": "markdown",
   "id": "12281bb7-3a8b-445a-817e-8db6657557b0",
   "metadata": {},
   "source": [
    "{cite:t}`unpingco2022python` afferma che questo esempio mostra quali sono gli elementi della teoria della probabilità che sono in gioco in questo semplice problema, sopprimendo deliberatamente alcuni dei dettagli tecnici più fastidiosi. \n",
    "\n",
    "Esaminiamo con più attenzione la funzione `defaultdict()`. Si noti che, nell'esempio sopra, essa prende come argomento `list`. Consideriamo con il seguente problema. Vogliamo contare quante volte ciascuna parola compare in un testo. Un primo modo per affrontare il problema è il seguente: creiamo un dizionario a cui aggiungiamo come key ciascuna parola (se non è già presente nel dizionario) e, come valore, il numero di occorrenze:"
   ]
  },
  {
   "cell_type": "code",
   "execution_count": 32,
   "id": "cd481dec-c990-45b7-a8f9-e084659f9b4b",
   "metadata": {},
   "outputs": [
    {
     "data": {
      "text/plain": [
       "{'Suppose': 1,\n",
       " 'I': 2,\n",
       " 'need': 1,\n",
       " 'to': 2,\n",
       " 'count': 1,\n",
       " 'the': 1,\n",
       " 'number': 1,\n",
       " 'of': 1,\n",
       " 'word': 1,\n",
       " 'occurrences': 1,\n",
       " 'in': 1,\n",
       " 'a': 1,\n",
       " 'text.': 1,\n",
       " 'How': 1,\n",
       " 'could': 1,\n",
       " 'do': 2,\n",
       " 'that?': 1,\n",
       " 'Python': 1,\n",
       " 'provides': 1,\n",
       " 'us': 1,\n",
       " 'with': 1,\n",
       " 'multiple': 1,\n",
       " 'ways': 1,\n",
       " 'this': 1,\n",
       " 'same': 1,\n",
       " 'thing.': 1}"
      ]
     },
     "execution_count": 32,
     "metadata": {},
     "output_type": "execute_result"
    }
   ],
   "source": [
    "text = \"Suppose I need to count the number of word occurrences in a text. How could I do that? Python provides us with multiple ways to do this same thing.\"\n",
    "word_count_dict = {}\n",
    "for w in text.split(\" \"):\n",
    "    if w in word_count_dict:\n",
    "        word_count_dict[w]+=1\n",
    "    else:\n",
    "        word_count_dict[w]=1\n",
    "\n",
    "word_count_dict"
   ]
  },
  {
   "attachments": {},
   "cell_type": "markdown",
   "id": "d7dcf812-c30f-48ee-8c86-15d849a7077e",
   "metadata": {},
   "source": [
    "Lo stesso risultato si ottiene con `defaultdict()`. In questo caso"
   ]
  },
  {
   "cell_type": "code",
   "execution_count": 33,
   "id": "0df91ed0-566a-4985-bb68-174a6dff2378",
   "metadata": {},
   "outputs": [
    {
     "data": {
      "text/plain": [
       "defaultdict(int,\n",
       "            {'Suppose': 1,\n",
       "             'I': 2,\n",
       "             'need': 1,\n",
       "             'to': 2,\n",
       "             'count': 1,\n",
       "             'the': 1,\n",
       "             'number': 1,\n",
       "             'of': 1,\n",
       "             'word': 1,\n",
       "             'occurrences': 1,\n",
       "             'in': 1,\n",
       "             'a': 1,\n",
       "             'text.': 1,\n",
       "             'How': 1,\n",
       "             'could': 1,\n",
       "             'do': 2,\n",
       "             'that?': 1,\n",
       "             'Python': 1,\n",
       "             'provides': 1,\n",
       "             'us': 1,\n",
       "             'with': 1,\n",
       "             'multiple': 1,\n",
       "             'ways': 1,\n",
       "             'this': 1,\n",
       "             'same': 1,\n",
       "             'thing.': 1})"
      ]
     },
     "execution_count": 33,
     "metadata": {},
     "output_type": "execute_result"
    }
   ],
   "source": [
    "word_count_dict = defaultdict(int)\n",
    "for w in text.split(\" \"):\n",
    "    word_count_dict[w] += 1\n",
    "\n",
    "word_count_dict\n"
   ]
  },
  {
   "attachments": {},
   "cell_type": "markdown",
   "id": "bc47c6c8-ff37-4923-93e1-a27fcb972954",
   "metadata": {},
   "source": [
    "Ciò rende chiaro che, in questo caso, `defaultdict()` viene usato per creare un dizionario dove associamo a ciascuna key la frequenza con la quale essa è presente nell'oggetto `text`. In questo secondo esempio, `defaultdict()` prende come argomento `int` perché ritornerà un integer.\n",
    "\n",
    "Nel caso del lancio dei due dadi, invece, l'argomento di `defaultdict()` è `list`, perché a ciascuna key verrà associata una lista. `d.items()` sono i `dict_items`."
   ]
  },
  {
   "cell_type": "code",
   "execution_count": 34,
   "id": "d765c4ec-5550-4e70-a54f-b6f763e60985",
   "metadata": {},
   "outputs": [
    {
     "data": {
      "text/plain": [
       "dict_items([((1, 1), 2), ((1, 2), 3), ((1, 3), 4), ((1, 4), 5), ((1, 5), 6), ((1, 6), 7), ((2, 1), 3), ((2, 2), 4), ((2, 3), 5), ((2, 4), 6), ((2, 5), 7), ((2, 6), 8), ((3, 1), 4), ((3, 2), 5), ((3, 3), 6), ((3, 4), 7), ((3, 5), 8), ((3, 6), 9), ((4, 1), 5), ((4, 2), 6), ((4, 3), 7), ((4, 4), 8), ((4, 5), 9), ((4, 6), 10), ((5, 1), 6), ((5, 2), 7), ((5, 3), 8), ((5, 4), 9), ((5, 5), 10), ((5, 6), 11), ((6, 1), 7), ((6, 2), 8), ((6, 3), 9), ((6, 4), 10), ((6, 5), 11), ((6, 6), 12)])"
      ]
     },
     "execution_count": 34,
     "metadata": {},
     "output_type": "execute_result"
    }
   ],
   "source": [
    "d.items()"
   ]
  },
  {
   "attachments": {},
   "cell_type": "markdown",
   "id": "26ebd17a-d167-4956-8f53-6e30a77db327",
   "metadata": {},
   "source": [
    "Il ciclo `for i, j in d.items():` fa riferimento a ciascuno degli elementi del dizionario `d`."
   ]
  },
  {
   "cell_type": "code",
   "execution_count": 35,
   "id": "74e82dd4-7dd6-41c3-a541-c36d667c4eb0",
   "metadata": {},
   "outputs": [
    {
     "name": "stdout",
     "output_type": "stream",
     "text": [
      "(1, 1) 2\n",
      "(1, 2) 3\n",
      "(1, 3) 4\n",
      "(1, 4) 5\n",
      "(1, 5) 6\n",
      "(1, 6) 7\n",
      "(2, 1) 3\n",
      "(2, 2) 4\n",
      "(2, 3) 5\n",
      "(2, 4) 6\n",
      "(2, 5) 7\n",
      "(2, 6) 8\n",
      "(3, 1) 4\n",
      "(3, 2) 5\n",
      "(3, 3) 6\n",
      "(3, 4) 7\n",
      "(3, 5) 8\n",
      "(3, 6) 9\n",
      "(4, 1) 5\n",
      "(4, 2) 6\n",
      "(4, 3) 7\n",
      "(4, 4) 8\n",
      "(4, 5) 9\n",
      "(4, 6) 10\n",
      "(5, 1) 6\n",
      "(5, 2) 7\n",
      "(5, 3) 8\n",
      "(5, 4) 9\n",
      "(5, 5) 10\n",
      "(5, 6) 11\n",
      "(6, 1) 7\n",
      "(6, 2) 8\n",
      "(6, 3) 9\n",
      "(6, 4) 10\n",
      "(6, 5) 11\n",
      "(6, 6) 12\n"
     ]
    }
   ],
   "source": [
    "for i, j in d.items():\n",
    "    print(i,j)"
   ]
  },
  {
   "attachments": {},
   "cell_type": "markdown",
   "id": "7fb6b013-3806-4ef8-9b88-e7ec09d14bb4",
   "metadata": {},
   "source": [
    "L'indice `i` indica le coppie"
   ]
  },
  {
   "cell_type": "code",
   "execution_count": 36,
   "id": "aa2a8c08-1eb9-4ae2-8d16-556eca01fb0a",
   "metadata": {},
   "outputs": [
    {
     "name": "stdout",
     "output_type": "stream",
     "text": [
      "(1, 1)\n",
      "(1, 2)\n",
      "(1, 3)\n",
      "(1, 4)\n",
      "(1, 5)\n",
      "(1, 6)\n",
      "(2, 1)\n",
      "(2, 2)\n",
      "(2, 3)\n",
      "(2, 4)\n",
      "(2, 5)\n",
      "(2, 6)\n",
      "(3, 1)\n",
      "(3, 2)\n",
      "(3, 3)\n",
      "(3, 4)\n",
      "(3, 5)\n",
      "(3, 6)\n",
      "(4, 1)\n",
      "(4, 2)\n",
      "(4, 3)\n",
      "(4, 4)\n",
      "(4, 5)\n",
      "(4, 6)\n",
      "(5, 1)\n",
      "(5, 2)\n",
      "(5, 3)\n",
      "(5, 4)\n",
      "(5, 5)\n",
      "(5, 6)\n",
      "(6, 1)\n",
      "(6, 2)\n",
      "(6, 3)\n",
      "(6, 4)\n",
      "(6, 5)\n",
      "(6, 6)\n"
     ]
    }
   ],
   "source": [
    "for i, j in d.items():\n",
    "    print(i)"
   ]
  },
  {
   "attachments": {},
   "cell_type": "markdown",
   "id": "28fa8e28-0865-4dcd-a096-6654a4685689",
   "metadata": {},
   "source": [
    "Mentre `j` fa riferimento alla somma"
   ]
  },
  {
   "cell_type": "code",
   "execution_count": 37,
   "id": "f814ec06-f71d-4bfc-8e93-c13fdcb93ef5",
   "metadata": {},
   "outputs": [
    {
     "name": "stdout",
     "output_type": "stream",
     "text": [
      "2\n",
      "3\n",
      "4\n",
      "5\n",
      "6\n",
      "7\n",
      "3\n",
      "4\n",
      "5\n",
      "6\n",
      "7\n",
      "8\n",
      "4\n",
      "5\n",
      "6\n",
      "7\n",
      "8\n",
      "9\n",
      "5\n",
      "6\n",
      "7\n",
      "8\n",
      "9\n",
      "10\n",
      "6\n",
      "7\n",
      "8\n",
      "9\n",
      "10\n",
      "11\n",
      "7\n",
      "8\n",
      "9\n",
      "10\n",
      "11\n",
      "12\n"
     ]
    }
   ],
   "source": [
    "for i, j in d.items():\n",
    "    print(j)"
   ]
  },
  {
   "attachments": {},
   "cell_type": "markdown",
   "id": "e215dce8-c6d4-46e9-aa7e-6393eebd1164",
   "metadata": {},
   "source": [
    "Ora possiamo usare `defaultdict(list)`. Per ciascun valore della somma (`j`), appendiamo alla lista ad esso associata gli elementi (`i`) che producono tale somma:"
   ]
  },
  {
   "cell_type": "code",
   "execution_count": 38,
   "id": "cd61ba93-39c1-43c5-a826-dd7a61096bd5",
   "metadata": {},
   "outputs": [],
   "source": [
    "dinv = defaultdict(list)\n",
    "for i, j in d.items():\n",
    "    dinv[j].append(i)"
   ]
  },
  {
   "attachments": {},
   "cell_type": "markdown",
   "id": "6545ffa3-3a35-4b87-9d07-adea89f271d3",
   "metadata": {},
   "source": [
    "Avendo ottenuto il risultato riportato sopra, {cite:t}`unpingco2022python` si pone un altra domanda: qual è la probabilità che la metà del prodotto dei punti prodotti da tre dadi superi la loro somma? Possiamo risolverlo usando lo stesso metodo del seguente. Innanzitutto, si crea lo spazio campione dell'esperimento casuale, ovvero un dizionario a cui, per ciascun punto dello spazio campione si aggiunge una variabile booleana che è True se la condizione specificata è soddisfatta ed è False altrimenti."
   ]
  },
  {
   "cell_type": "code",
   "execution_count": 39,
   "id": "ab434a6b-4ef8-4f0e-a243-f151c9f18edd",
   "metadata": {},
   "outputs": [
    {
     "data": {
      "text/plain": [
       "{(1, 1, 1): False,\n",
       " (1, 1, 2): False,\n",
       " (1, 1, 3): False,\n",
       " (1, 1, 4): False,\n",
       " (1, 1, 5): False,\n",
       " (1, 1, 6): False,\n",
       " (1, 2, 1): False,\n",
       " (1, 2, 2): False,\n",
       " (1, 2, 3): False,\n",
       " (1, 2, 4): False,\n",
       " (1, 2, 5): False,\n",
       " (1, 2, 6): False,\n",
       " (1, 3, 1): False,\n",
       " (1, 3, 2): False,\n",
       " (1, 3, 3): False,\n",
       " (1, 3, 4): False,\n",
       " (1, 3, 5): False,\n",
       " (1, 3, 6): False,\n",
       " (1, 4, 1): False,\n",
       " (1, 4, 2): False,\n",
       " (1, 4, 3): False,\n",
       " (1, 4, 4): False,\n",
       " (1, 4, 5): False,\n",
       " (1, 4, 6): True,\n",
       " (1, 5, 1): False,\n",
       " (1, 5, 2): False,\n",
       " (1, 5, 3): False,\n",
       " (1, 5, 4): False,\n",
       " (1, 5, 5): True,\n",
       " (1, 5, 6): True,\n",
       " (1, 6, 1): False,\n",
       " (1, 6, 2): False,\n",
       " (1, 6, 3): False,\n",
       " (1, 6, 4): True,\n",
       " (1, 6, 5): True,\n",
       " (1, 6, 6): True,\n",
       " (2, 1, 1): False,\n",
       " (2, 1, 2): False,\n",
       " (2, 1, 3): False,\n",
       " (2, 1, 4): False,\n",
       " (2, 1, 5): False,\n",
       " (2, 1, 6): False,\n",
       " (2, 2, 1): False,\n",
       " (2, 2, 2): False,\n",
       " (2, 2, 3): False,\n",
       " (2, 2, 4): False,\n",
       " (2, 2, 5): True,\n",
       " (2, 2, 6): True,\n",
       " (2, 3, 1): False,\n",
       " (2, 3, 2): False,\n",
       " (2, 3, 3): True,\n",
       " (2, 3, 4): True,\n",
       " (2, 3, 5): True,\n",
       " (2, 3, 6): True,\n",
       " (2, 4, 1): False,\n",
       " (2, 4, 2): False,\n",
       " (2, 4, 3): True,\n",
       " (2, 4, 4): True,\n",
       " (2, 4, 5): True,\n",
       " (2, 4, 6): True,\n",
       " (2, 5, 1): False,\n",
       " (2, 5, 2): True,\n",
       " (2, 5, 3): True,\n",
       " (2, 5, 4): True,\n",
       " (2, 5, 5): True,\n",
       " (2, 5, 6): True,\n",
       " (2, 6, 1): False,\n",
       " (2, 6, 2): True,\n",
       " (2, 6, 3): True,\n",
       " (2, 6, 4): True,\n",
       " (2, 6, 5): True,\n",
       " (2, 6, 6): True,\n",
       " (3, 1, 1): False,\n",
       " (3, 1, 2): False,\n",
       " (3, 1, 3): False,\n",
       " (3, 1, 4): False,\n",
       " (3, 1, 5): False,\n",
       " (3, 1, 6): False,\n",
       " (3, 2, 1): False,\n",
       " (3, 2, 2): False,\n",
       " (3, 2, 3): True,\n",
       " (3, 2, 4): True,\n",
       " (3, 2, 5): True,\n",
       " (3, 2, 6): True,\n",
       " (3, 3, 1): False,\n",
       " (3, 3, 2): True,\n",
       " (3, 3, 3): True,\n",
       " (3, 3, 4): True,\n",
       " (3, 3, 5): True,\n",
       " (3, 3, 6): True,\n",
       " (3, 4, 1): False,\n",
       " (3, 4, 2): True,\n",
       " (3, 4, 3): True,\n",
       " (3, 4, 4): True,\n",
       " (3, 4, 5): True,\n",
       " (3, 4, 6): True,\n",
       " (3, 5, 1): False,\n",
       " (3, 5, 2): True,\n",
       " (3, 5, 3): True,\n",
       " (3, 5, 4): True,\n",
       " (3, 5, 5): True,\n",
       " (3, 5, 6): True,\n",
       " (3, 6, 1): False,\n",
       " (3, 6, 2): True,\n",
       " (3, 6, 3): True,\n",
       " (3, 6, 4): True,\n",
       " (3, 6, 5): True,\n",
       " (3, 6, 6): True,\n",
       " (4, 1, 1): False,\n",
       " (4, 1, 2): False,\n",
       " (4, 1, 3): False,\n",
       " (4, 1, 4): False,\n",
       " (4, 1, 5): False,\n",
       " (4, 1, 6): True,\n",
       " (4, 2, 1): False,\n",
       " (4, 2, 2): False,\n",
       " (4, 2, 3): True,\n",
       " (4, 2, 4): True,\n",
       " (4, 2, 5): True,\n",
       " (4, 2, 6): True,\n",
       " (4, 3, 1): False,\n",
       " (4, 3, 2): True,\n",
       " (4, 3, 3): True,\n",
       " (4, 3, 4): True,\n",
       " (4, 3, 5): True,\n",
       " (4, 3, 6): True,\n",
       " (4, 4, 1): False,\n",
       " (4, 4, 2): True,\n",
       " (4, 4, 3): True,\n",
       " (4, 4, 4): True,\n",
       " (4, 4, 5): True,\n",
       " (4, 4, 6): True,\n",
       " (4, 5, 1): False,\n",
       " (4, 5, 2): True,\n",
       " (4, 5, 3): True,\n",
       " (4, 5, 4): True,\n",
       " (4, 5, 5): True,\n",
       " (4, 5, 6): True,\n",
       " (4, 6, 1): True,\n",
       " (4, 6, 2): True,\n",
       " (4, 6, 3): True,\n",
       " (4, 6, 4): True,\n",
       " (4, 6, 5): True,\n",
       " (4, 6, 6): True,\n",
       " (5, 1, 1): False,\n",
       " (5, 1, 2): False,\n",
       " (5, 1, 3): False,\n",
       " (5, 1, 4): False,\n",
       " (5, 1, 5): True,\n",
       " (5, 1, 6): True,\n",
       " (5, 2, 1): False,\n",
       " (5, 2, 2): True,\n",
       " (5, 2, 3): True,\n",
       " (5, 2, 4): True,\n",
       " (5, 2, 5): True,\n",
       " (5, 2, 6): True,\n",
       " (5, 3, 1): False,\n",
       " (5, 3, 2): True,\n",
       " (5, 3, 3): True,\n",
       " (5, 3, 4): True,\n",
       " (5, 3, 5): True,\n",
       " (5, 3, 6): True,\n",
       " (5, 4, 1): False,\n",
       " (5, 4, 2): True,\n",
       " (5, 4, 3): True,\n",
       " (5, 4, 4): True,\n",
       " (5, 4, 5): True,\n",
       " (5, 4, 6): True,\n",
       " (5, 5, 1): True,\n",
       " (5, 5, 2): True,\n",
       " (5, 5, 3): True,\n",
       " (5, 5, 4): True,\n",
       " (5, 5, 5): True,\n",
       " (5, 5, 6): True,\n",
       " (5, 6, 1): True,\n",
       " (5, 6, 2): True,\n",
       " (5, 6, 3): True,\n",
       " (5, 6, 4): True,\n",
       " (5, 6, 5): True,\n",
       " (5, 6, 6): True,\n",
       " (6, 1, 1): False,\n",
       " (6, 1, 2): False,\n",
       " (6, 1, 3): False,\n",
       " (6, 1, 4): True,\n",
       " (6, 1, 5): True,\n",
       " (6, 1, 6): True,\n",
       " (6, 2, 1): False,\n",
       " (6, 2, 2): True,\n",
       " (6, 2, 3): True,\n",
       " (6, 2, 4): True,\n",
       " (6, 2, 5): True,\n",
       " (6, 2, 6): True,\n",
       " (6, 3, 1): False,\n",
       " (6, 3, 2): True,\n",
       " (6, 3, 3): True,\n",
       " (6, 3, 4): True,\n",
       " (6, 3, 5): True,\n",
       " (6, 3, 6): True,\n",
       " (6, 4, 1): True,\n",
       " (6, 4, 2): True,\n",
       " (6, 4, 3): True,\n",
       " (6, 4, 4): True,\n",
       " (6, 4, 5): True,\n",
       " (6, 4, 6): True,\n",
       " (6, 5, 1): True,\n",
       " (6, 5, 2): True,\n",
       " (6, 5, 3): True,\n",
       " (6, 5, 4): True,\n",
       " (6, 5, 5): True,\n",
       " (6, 5, 6): True,\n",
       " (6, 6, 1): True,\n",
       " (6, 6, 2): True,\n",
       " (6, 6, 3): True,\n",
       " (6, 6, 4): True,\n",
       " (6, 6, 5): True,\n",
       " (6, 6, 6): True}"
      ]
     },
     "execution_count": 39,
     "metadata": {},
     "output_type": "execute_result"
    }
   ],
   "source": [
    "d = {\n",
    "    (i, j, k): ((i * j * k) / 2 > i + j + k)\n",
    "    for i in range(1, 7)\n",
    "    for j in range(1, 7)\n",
    "    for k in range(1, 7)\n",
    "}\n",
    "d"
   ]
  },
  {
   "cell_type": "code",
   "execution_count": 40,
   "id": "6e9aeee8-96b6-4eed-b158-43a5ee2637e0",
   "metadata": {},
   "outputs": [
    {
     "data": {
      "text/plain": [
       "defaultdict(list,\n",
       "            {False: [(1, 1, 1),\n",
       "              (1, 1, 2),\n",
       "              (1, 1, 3),\n",
       "              (1, 1, 4),\n",
       "              (1, 1, 5),\n",
       "              (1, 1, 6),\n",
       "              (1, 2, 1),\n",
       "              (1, 2, 2),\n",
       "              (1, 2, 3),\n",
       "              (1, 2, 4),\n",
       "              (1, 2, 5),\n",
       "              (1, 2, 6),\n",
       "              (1, 3, 1),\n",
       "              (1, 3, 2),\n",
       "              (1, 3, 3),\n",
       "              (1, 3, 4),\n",
       "              (1, 3, 5),\n",
       "              (1, 3, 6),\n",
       "              (1, 4, 1),\n",
       "              (1, 4, 2),\n",
       "              (1, 4, 3),\n",
       "              (1, 4, 4),\n",
       "              (1, 4, 5),\n",
       "              (1, 5, 1),\n",
       "              (1, 5, 2),\n",
       "              (1, 5, 3),\n",
       "              (1, 5, 4),\n",
       "              (1, 6, 1),\n",
       "              (1, 6, 2),\n",
       "              (1, 6, 3),\n",
       "              (2, 1, 1),\n",
       "              (2, 1, 2),\n",
       "              (2, 1, 3),\n",
       "              (2, 1, 4),\n",
       "              (2, 1, 5),\n",
       "              (2, 1, 6),\n",
       "              (2, 2, 1),\n",
       "              (2, 2, 2),\n",
       "              (2, 2, 3),\n",
       "              (2, 2, 4),\n",
       "              (2, 3, 1),\n",
       "              (2, 3, 2),\n",
       "              (2, 4, 1),\n",
       "              (2, 4, 2),\n",
       "              (2, 5, 1),\n",
       "              (2, 6, 1),\n",
       "              (3, 1, 1),\n",
       "              (3, 1, 2),\n",
       "              (3, 1, 3),\n",
       "              (3, 1, 4),\n",
       "              (3, 1, 5),\n",
       "              (3, 1, 6),\n",
       "              (3, 2, 1),\n",
       "              (3, 2, 2),\n",
       "              (3, 3, 1),\n",
       "              (3, 4, 1),\n",
       "              (3, 5, 1),\n",
       "              (3, 6, 1),\n",
       "              (4, 1, 1),\n",
       "              (4, 1, 2),\n",
       "              (4, 1, 3),\n",
       "              (4, 1, 4),\n",
       "              (4, 1, 5),\n",
       "              (4, 2, 1),\n",
       "              (4, 2, 2),\n",
       "              (4, 3, 1),\n",
       "              (4, 4, 1),\n",
       "              (4, 5, 1),\n",
       "              (5, 1, 1),\n",
       "              (5, 1, 2),\n",
       "              (5, 1, 3),\n",
       "              (5, 1, 4),\n",
       "              (5, 2, 1),\n",
       "              (5, 3, 1),\n",
       "              (5, 4, 1),\n",
       "              (6, 1, 1),\n",
       "              (6, 1, 2),\n",
       "              (6, 1, 3),\n",
       "              (6, 2, 1),\n",
       "              (6, 3, 1)],\n",
       "             True: [(1, 4, 6),\n",
       "              (1, 5, 5),\n",
       "              (1, 5, 6),\n",
       "              (1, 6, 4),\n",
       "              (1, 6, 5),\n",
       "              (1, 6, 6),\n",
       "              (2, 2, 5),\n",
       "              (2, 2, 6),\n",
       "              (2, 3, 3),\n",
       "              (2, 3, 4),\n",
       "              (2, 3, 5),\n",
       "              (2, 3, 6),\n",
       "              (2, 4, 3),\n",
       "              (2, 4, 4),\n",
       "              (2, 4, 5),\n",
       "              (2, 4, 6),\n",
       "              (2, 5, 2),\n",
       "              (2, 5, 3),\n",
       "              (2, 5, 4),\n",
       "              (2, 5, 5),\n",
       "              (2, 5, 6),\n",
       "              (2, 6, 2),\n",
       "              (2, 6, 3),\n",
       "              (2, 6, 4),\n",
       "              (2, 6, 5),\n",
       "              (2, 6, 6),\n",
       "              (3, 2, 3),\n",
       "              (3, 2, 4),\n",
       "              (3, 2, 5),\n",
       "              (3, 2, 6),\n",
       "              (3, 3, 2),\n",
       "              (3, 3, 3),\n",
       "              (3, 3, 4),\n",
       "              (3, 3, 5),\n",
       "              (3, 3, 6),\n",
       "              (3, 4, 2),\n",
       "              (3, 4, 3),\n",
       "              (3, 4, 4),\n",
       "              (3, 4, 5),\n",
       "              (3, 4, 6),\n",
       "              (3, 5, 2),\n",
       "              (3, 5, 3),\n",
       "              (3, 5, 4),\n",
       "              (3, 5, 5),\n",
       "              (3, 5, 6),\n",
       "              (3, 6, 2),\n",
       "              (3, 6, 3),\n",
       "              (3, 6, 4),\n",
       "              (3, 6, 5),\n",
       "              (3, 6, 6),\n",
       "              (4, 1, 6),\n",
       "              (4, 2, 3),\n",
       "              (4, 2, 4),\n",
       "              (4, 2, 5),\n",
       "              (4, 2, 6),\n",
       "              (4, 3, 2),\n",
       "              (4, 3, 3),\n",
       "              (4, 3, 4),\n",
       "              (4, 3, 5),\n",
       "              (4, 3, 6),\n",
       "              (4, 4, 2),\n",
       "              (4, 4, 3),\n",
       "              (4, 4, 4),\n",
       "              (4, 4, 5),\n",
       "              (4, 4, 6),\n",
       "              (4, 5, 2),\n",
       "              (4, 5, 3),\n",
       "              (4, 5, 4),\n",
       "              (4, 5, 5),\n",
       "              (4, 5, 6),\n",
       "              (4, 6, 1),\n",
       "              (4, 6, 2),\n",
       "              (4, 6, 3),\n",
       "              (4, 6, 4),\n",
       "              (4, 6, 5),\n",
       "              (4, 6, 6),\n",
       "              (5, 1, 5),\n",
       "              (5, 1, 6),\n",
       "              (5, 2, 2),\n",
       "              (5, 2, 3),\n",
       "              (5, 2, 4),\n",
       "              (5, 2, 5),\n",
       "              (5, 2, 6),\n",
       "              (5, 3, 2),\n",
       "              (5, 3, 3),\n",
       "              (5, 3, 4),\n",
       "              (5, 3, 5),\n",
       "              (5, 3, 6),\n",
       "              (5, 4, 2),\n",
       "              (5, 4, 3),\n",
       "              (5, 4, 4),\n",
       "              (5, 4, 5),\n",
       "              (5, 4, 6),\n",
       "              (5, 5, 1),\n",
       "              (5, 5, 2),\n",
       "              (5, 5, 3),\n",
       "              (5, 5, 4),\n",
       "              (5, 5, 5),\n",
       "              (5, 5, 6),\n",
       "              (5, 6, 1),\n",
       "              (5, 6, 2),\n",
       "              (5, 6, 3),\n",
       "              (5, 6, 4),\n",
       "              (5, 6, 5),\n",
       "              (5, 6, 6),\n",
       "              (6, 1, 4),\n",
       "              (6, 1, 5),\n",
       "              (6, 1, 6),\n",
       "              (6, 2, 2),\n",
       "              (6, 2, 3),\n",
       "              (6, 2, 4),\n",
       "              (6, 2, 5),\n",
       "              (6, 2, 6),\n",
       "              (6, 3, 2),\n",
       "              (6, 3, 3),\n",
       "              (6, 3, 4),\n",
       "              (6, 3, 5),\n",
       "              (6, 3, 6),\n",
       "              (6, 4, 1),\n",
       "              (6, 4, 2),\n",
       "              (6, 4, 3),\n",
       "              (6, 4, 4),\n",
       "              (6, 4, 5),\n",
       "              (6, 4, 6),\n",
       "              (6, 5, 1),\n",
       "              (6, 5, 2),\n",
       "              (6, 5, 3),\n",
       "              (6, 5, 4),\n",
       "              (6, 5, 5),\n",
       "              (6, 5, 6),\n",
       "              (6, 6, 1),\n",
       "              (6, 6, 2),\n",
       "              (6, 6, 3),\n",
       "              (6, 6, 4),\n",
       "              (6, 6, 5),\n",
       "              (6, 6, 6)]})"
      ]
     },
     "execution_count": 40,
     "metadata": {},
     "output_type": "execute_result"
    }
   ],
   "source": [
    "dinv = defaultdict(list)\n",
    "for i, j in d.items():\n",
    "    dinv[j].append(i)\n",
    "\n",
    "dinv"
   ]
  },
  {
   "cell_type": "code",
   "execution_count": 47,
   "id": "2e3ed744-99be-4ad2-8fdd-3478076beb8d",
   "metadata": {},
   "outputs": [
    {
     "name": "stdout",
     "output_type": "stream",
     "text": [
      "{False: 0.37037037037037035, True: 0.6296296296296297}\n"
     ]
    }
   ],
   "source": [
    "X = {i: len(j) / 6.0**3 for i, j in dinv.items()}\n",
    "print(X)\n"
   ]
  },
  {
   "cell_type": "code",
   "execution_count": 48,
   "id": "86a12823-629c-4f92-8c2a-9b10c6a0e443",
   "metadata": {},
   "outputs": [
    {
     "data": {
      "text/html": [
       "<div>\n",
       "<style scoped>\n",
       "    .dataframe tbody tr th:only-of-type {\n",
       "        vertical-align: middle;\n",
       "    }\n",
       "\n",
       "    .dataframe tbody tr th {\n",
       "        vertical-align: top;\n",
       "    }\n",
       "\n",
       "    .dataframe thead th {\n",
       "        text-align: right;\n",
       "    }\n",
       "</style>\n",
       "<table border=\"1\" class=\"dataframe\">\n",
       "  <thead>\n",
       "    <tr style=\"text-align: right;\">\n",
       "      <th></th>\n",
       "      <th>sm</th>\n",
       "      <th>d1</th>\n",
       "      <th>d2</th>\n",
       "      <th>pd1</th>\n",
       "      <th>pd2</th>\n",
       "      <th>p</th>\n",
       "    </tr>\n",
       "  </thead>\n",
       "  <tbody>\n",
       "    <tr>\n",
       "      <th>(1, 1)</th>\n",
       "      <td>NaN</td>\n",
       "      <td>NaN</td>\n",
       "      <td>NaN</td>\n",
       "      <td>NaN</td>\n",
       "      <td>NaN</td>\n",
       "      <td>NaN</td>\n",
       "    </tr>\n",
       "    <tr>\n",
       "      <th>(1, 2)</th>\n",
       "      <td>NaN</td>\n",
       "      <td>NaN</td>\n",
       "      <td>NaN</td>\n",
       "      <td>NaN</td>\n",
       "      <td>NaN</td>\n",
       "      <td>NaN</td>\n",
       "    </tr>\n",
       "    <tr>\n",
       "      <th>(1, 3)</th>\n",
       "      <td>NaN</td>\n",
       "      <td>NaN</td>\n",
       "      <td>NaN</td>\n",
       "      <td>NaN</td>\n",
       "      <td>NaN</td>\n",
       "      <td>NaN</td>\n",
       "    </tr>\n",
       "    <tr>\n",
       "      <th>(1, 4)</th>\n",
       "      <td>NaN</td>\n",
       "      <td>NaN</td>\n",
       "      <td>NaN</td>\n",
       "      <td>NaN</td>\n",
       "      <td>NaN</td>\n",
       "      <td>NaN</td>\n",
       "    </tr>\n",
       "    <tr>\n",
       "      <th>(1, 5)</th>\n",
       "      <td>NaN</td>\n",
       "      <td>NaN</td>\n",
       "      <td>NaN</td>\n",
       "      <td>NaN</td>\n",
       "      <td>NaN</td>\n",
       "      <td>NaN</td>\n",
       "    </tr>\n",
       "    <tr>\n",
       "      <th>(1, 6)</th>\n",
       "      <td>NaN</td>\n",
       "      <td>NaN</td>\n",
       "      <td>NaN</td>\n",
       "      <td>NaN</td>\n",
       "      <td>NaN</td>\n",
       "      <td>NaN</td>\n",
       "    </tr>\n",
       "    <tr>\n",
       "      <th>(2, 1)</th>\n",
       "      <td>NaN</td>\n",
       "      <td>NaN</td>\n",
       "      <td>NaN</td>\n",
       "      <td>NaN</td>\n",
       "      <td>NaN</td>\n",
       "      <td>NaN</td>\n",
       "    </tr>\n",
       "    <tr>\n",
       "      <th>(2, 2)</th>\n",
       "      <td>NaN</td>\n",
       "      <td>NaN</td>\n",
       "      <td>NaN</td>\n",
       "      <td>NaN</td>\n",
       "      <td>NaN</td>\n",
       "      <td>NaN</td>\n",
       "    </tr>\n",
       "    <tr>\n",
       "      <th>(2, 3)</th>\n",
       "      <td>NaN</td>\n",
       "      <td>NaN</td>\n",
       "      <td>NaN</td>\n",
       "      <td>NaN</td>\n",
       "      <td>NaN</td>\n",
       "      <td>NaN</td>\n",
       "    </tr>\n",
       "    <tr>\n",
       "      <th>(2, 4)</th>\n",
       "      <td>NaN</td>\n",
       "      <td>NaN</td>\n",
       "      <td>NaN</td>\n",
       "      <td>NaN</td>\n",
       "      <td>NaN</td>\n",
       "      <td>NaN</td>\n",
       "    </tr>\n",
       "    <tr>\n",
       "      <th>(2, 5)</th>\n",
       "      <td>NaN</td>\n",
       "      <td>NaN</td>\n",
       "      <td>NaN</td>\n",
       "      <td>NaN</td>\n",
       "      <td>NaN</td>\n",
       "      <td>NaN</td>\n",
       "    </tr>\n",
       "    <tr>\n",
       "      <th>(2, 6)</th>\n",
       "      <td>NaN</td>\n",
       "      <td>NaN</td>\n",
       "      <td>NaN</td>\n",
       "      <td>NaN</td>\n",
       "      <td>NaN</td>\n",
       "      <td>NaN</td>\n",
       "    </tr>\n",
       "    <tr>\n",
       "      <th>(3, 1)</th>\n",
       "      <td>NaN</td>\n",
       "      <td>NaN</td>\n",
       "      <td>NaN</td>\n",
       "      <td>NaN</td>\n",
       "      <td>NaN</td>\n",
       "      <td>NaN</td>\n",
       "    </tr>\n",
       "    <tr>\n",
       "      <th>(3, 2)</th>\n",
       "      <td>NaN</td>\n",
       "      <td>NaN</td>\n",
       "      <td>NaN</td>\n",
       "      <td>NaN</td>\n",
       "      <td>NaN</td>\n",
       "      <td>NaN</td>\n",
       "    </tr>\n",
       "    <tr>\n",
       "      <th>(3, 3)</th>\n",
       "      <td>NaN</td>\n",
       "      <td>NaN</td>\n",
       "      <td>NaN</td>\n",
       "      <td>NaN</td>\n",
       "      <td>NaN</td>\n",
       "      <td>NaN</td>\n",
       "    </tr>\n",
       "    <tr>\n",
       "      <th>(3, 4)</th>\n",
       "      <td>NaN</td>\n",
       "      <td>NaN</td>\n",
       "      <td>NaN</td>\n",
       "      <td>NaN</td>\n",
       "      <td>NaN</td>\n",
       "      <td>NaN</td>\n",
       "    </tr>\n",
       "    <tr>\n",
       "      <th>(3, 5)</th>\n",
       "      <td>NaN</td>\n",
       "      <td>NaN</td>\n",
       "      <td>NaN</td>\n",
       "      <td>NaN</td>\n",
       "      <td>NaN</td>\n",
       "      <td>NaN</td>\n",
       "    </tr>\n",
       "    <tr>\n",
       "      <th>(3, 6)</th>\n",
       "      <td>NaN</td>\n",
       "      <td>NaN</td>\n",
       "      <td>NaN</td>\n",
       "      <td>NaN</td>\n",
       "      <td>NaN</td>\n",
       "      <td>NaN</td>\n",
       "    </tr>\n",
       "    <tr>\n",
       "      <th>(4, 1)</th>\n",
       "      <td>NaN</td>\n",
       "      <td>NaN</td>\n",
       "      <td>NaN</td>\n",
       "      <td>NaN</td>\n",
       "      <td>NaN</td>\n",
       "      <td>NaN</td>\n",
       "    </tr>\n",
       "    <tr>\n",
       "      <th>(4, 2)</th>\n",
       "      <td>NaN</td>\n",
       "      <td>NaN</td>\n",
       "      <td>NaN</td>\n",
       "      <td>NaN</td>\n",
       "      <td>NaN</td>\n",
       "      <td>NaN</td>\n",
       "    </tr>\n",
       "    <tr>\n",
       "      <th>(4, 3)</th>\n",
       "      <td>NaN</td>\n",
       "      <td>NaN</td>\n",
       "      <td>NaN</td>\n",
       "      <td>NaN</td>\n",
       "      <td>NaN</td>\n",
       "      <td>NaN</td>\n",
       "    </tr>\n",
       "    <tr>\n",
       "      <th>(4, 4)</th>\n",
       "      <td>NaN</td>\n",
       "      <td>NaN</td>\n",
       "      <td>NaN</td>\n",
       "      <td>NaN</td>\n",
       "      <td>NaN</td>\n",
       "      <td>NaN</td>\n",
       "    </tr>\n",
       "    <tr>\n",
       "      <th>(4, 5)</th>\n",
       "      <td>NaN</td>\n",
       "      <td>NaN</td>\n",
       "      <td>NaN</td>\n",
       "      <td>NaN</td>\n",
       "      <td>NaN</td>\n",
       "      <td>NaN</td>\n",
       "    </tr>\n",
       "    <tr>\n",
       "      <th>(4, 6)</th>\n",
       "      <td>NaN</td>\n",
       "      <td>NaN</td>\n",
       "      <td>NaN</td>\n",
       "      <td>NaN</td>\n",
       "      <td>NaN</td>\n",
       "      <td>NaN</td>\n",
       "    </tr>\n",
       "    <tr>\n",
       "      <th>(5, 1)</th>\n",
       "      <td>NaN</td>\n",
       "      <td>NaN</td>\n",
       "      <td>NaN</td>\n",
       "      <td>NaN</td>\n",
       "      <td>NaN</td>\n",
       "      <td>NaN</td>\n",
       "    </tr>\n",
       "    <tr>\n",
       "      <th>(5, 2)</th>\n",
       "      <td>NaN</td>\n",
       "      <td>NaN</td>\n",
       "      <td>NaN</td>\n",
       "      <td>NaN</td>\n",
       "      <td>NaN</td>\n",
       "      <td>NaN</td>\n",
       "    </tr>\n",
       "    <tr>\n",
       "      <th>(5, 3)</th>\n",
       "      <td>NaN</td>\n",
       "      <td>NaN</td>\n",
       "      <td>NaN</td>\n",
       "      <td>NaN</td>\n",
       "      <td>NaN</td>\n",
       "      <td>NaN</td>\n",
       "    </tr>\n",
       "    <tr>\n",
       "      <th>(5, 4)</th>\n",
       "      <td>NaN</td>\n",
       "      <td>NaN</td>\n",
       "      <td>NaN</td>\n",
       "      <td>NaN</td>\n",
       "      <td>NaN</td>\n",
       "      <td>NaN</td>\n",
       "    </tr>\n",
       "    <tr>\n",
       "      <th>(5, 5)</th>\n",
       "      <td>NaN</td>\n",
       "      <td>NaN</td>\n",
       "      <td>NaN</td>\n",
       "      <td>NaN</td>\n",
       "      <td>NaN</td>\n",
       "      <td>NaN</td>\n",
       "    </tr>\n",
       "    <tr>\n",
       "      <th>(5, 6)</th>\n",
       "      <td>NaN</td>\n",
       "      <td>NaN</td>\n",
       "      <td>NaN</td>\n",
       "      <td>NaN</td>\n",
       "      <td>NaN</td>\n",
       "      <td>NaN</td>\n",
       "    </tr>\n",
       "    <tr>\n",
       "      <th>(6, 1)</th>\n",
       "      <td>NaN</td>\n",
       "      <td>NaN</td>\n",
       "      <td>NaN</td>\n",
       "      <td>NaN</td>\n",
       "      <td>NaN</td>\n",
       "      <td>NaN</td>\n",
       "    </tr>\n",
       "    <tr>\n",
       "      <th>(6, 2)</th>\n",
       "      <td>NaN</td>\n",
       "      <td>NaN</td>\n",
       "      <td>NaN</td>\n",
       "      <td>NaN</td>\n",
       "      <td>NaN</td>\n",
       "      <td>NaN</td>\n",
       "    </tr>\n",
       "    <tr>\n",
       "      <th>(6, 3)</th>\n",
       "      <td>NaN</td>\n",
       "      <td>NaN</td>\n",
       "      <td>NaN</td>\n",
       "      <td>NaN</td>\n",
       "      <td>NaN</td>\n",
       "      <td>NaN</td>\n",
       "    </tr>\n",
       "    <tr>\n",
       "      <th>(6, 4)</th>\n",
       "      <td>NaN</td>\n",
       "      <td>NaN</td>\n",
       "      <td>NaN</td>\n",
       "      <td>NaN</td>\n",
       "      <td>NaN</td>\n",
       "      <td>NaN</td>\n",
       "    </tr>\n",
       "    <tr>\n",
       "      <th>(6, 5)</th>\n",
       "      <td>NaN</td>\n",
       "      <td>NaN</td>\n",
       "      <td>NaN</td>\n",
       "      <td>NaN</td>\n",
       "      <td>NaN</td>\n",
       "      <td>NaN</td>\n",
       "    </tr>\n",
       "    <tr>\n",
       "      <th>(6, 6)</th>\n",
       "      <td>NaN</td>\n",
       "      <td>NaN</td>\n",
       "      <td>NaN</td>\n",
       "      <td>NaN</td>\n",
       "      <td>NaN</td>\n",
       "      <td>NaN</td>\n",
       "    </tr>\n",
       "  </tbody>\n",
       "</table>\n",
       "</div>"
      ],
      "text/plain": [
       "         sm   d1   d2  pd1  pd2    p\n",
       "(1, 1)  NaN  NaN  NaN  NaN  NaN  NaN\n",
       "(1, 2)  NaN  NaN  NaN  NaN  NaN  NaN\n",
       "(1, 3)  NaN  NaN  NaN  NaN  NaN  NaN\n",
       "(1, 4)  NaN  NaN  NaN  NaN  NaN  NaN\n",
       "(1, 5)  NaN  NaN  NaN  NaN  NaN  NaN\n",
       "(1, 6)  NaN  NaN  NaN  NaN  NaN  NaN\n",
       "(2, 1)  NaN  NaN  NaN  NaN  NaN  NaN\n",
       "(2, 2)  NaN  NaN  NaN  NaN  NaN  NaN\n",
       "(2, 3)  NaN  NaN  NaN  NaN  NaN  NaN\n",
       "(2, 4)  NaN  NaN  NaN  NaN  NaN  NaN\n",
       "(2, 5)  NaN  NaN  NaN  NaN  NaN  NaN\n",
       "(2, 6)  NaN  NaN  NaN  NaN  NaN  NaN\n",
       "(3, 1)  NaN  NaN  NaN  NaN  NaN  NaN\n",
       "(3, 2)  NaN  NaN  NaN  NaN  NaN  NaN\n",
       "(3, 3)  NaN  NaN  NaN  NaN  NaN  NaN\n",
       "(3, 4)  NaN  NaN  NaN  NaN  NaN  NaN\n",
       "(3, 5)  NaN  NaN  NaN  NaN  NaN  NaN\n",
       "(3, 6)  NaN  NaN  NaN  NaN  NaN  NaN\n",
       "(4, 1)  NaN  NaN  NaN  NaN  NaN  NaN\n",
       "(4, 2)  NaN  NaN  NaN  NaN  NaN  NaN\n",
       "(4, 3)  NaN  NaN  NaN  NaN  NaN  NaN\n",
       "(4, 4)  NaN  NaN  NaN  NaN  NaN  NaN\n",
       "(4, 5)  NaN  NaN  NaN  NaN  NaN  NaN\n",
       "(4, 6)  NaN  NaN  NaN  NaN  NaN  NaN\n",
       "(5, 1)  NaN  NaN  NaN  NaN  NaN  NaN\n",
       "(5, 2)  NaN  NaN  NaN  NaN  NaN  NaN\n",
       "(5, 3)  NaN  NaN  NaN  NaN  NaN  NaN\n",
       "(5, 4)  NaN  NaN  NaN  NaN  NaN  NaN\n",
       "(5, 5)  NaN  NaN  NaN  NaN  NaN  NaN\n",
       "(5, 6)  NaN  NaN  NaN  NaN  NaN  NaN\n",
       "(6, 1)  NaN  NaN  NaN  NaN  NaN  NaN\n",
       "(6, 2)  NaN  NaN  NaN  NaN  NaN  NaN\n",
       "(6, 3)  NaN  NaN  NaN  NaN  NaN  NaN\n",
       "(6, 4)  NaN  NaN  NaN  NaN  NaN  NaN\n",
       "(6, 5)  NaN  NaN  NaN  NaN  NaN  NaN\n",
       "(6, 6)  NaN  NaN  NaN  NaN  NaN  NaN"
      ]
     },
     "execution_count": 48,
     "metadata": {},
     "output_type": "execute_result"
    }
   ],
   "source": [
    "d = pd.DataFrame(\n",
    "    index=[(i, j) for i in range(1, 7) for j in range(1, 7)],\n",
    "    columns=[\"sm\", \"d1\", \"d2\", \"pd1\", \"pd2\", \"p\"],\n",
    ")\n",
    "d"
   ]
  },
  {
   "cell_type": "code",
   "execution_count": 49,
   "id": "4a1f6d4d-ad36-4312-8541-3e472c59f847",
   "metadata": {},
   "outputs": [
    {
     "data": {
      "text/plain": [
       "(         sm  d1  d2  pd1  pd2    p\n",
       " (1, 1)  NaN   1   1  NaN  NaN  NaN\n",
       " (1, 2)  NaN   1   2  NaN  NaN  NaN\n",
       " (1, 3)  NaN   1   3  NaN  NaN  NaN\n",
       " (1, 4)  NaN   1   4  NaN  NaN  NaN\n",
       " (1, 5)  NaN   1   5  NaN  NaN  NaN,\n",
       "          sm  d1  d2  pd1  pd2    p\n",
       " (6, 2)  NaN   6   2  NaN  NaN  NaN\n",
       " (6, 3)  NaN   6   3  NaN  NaN  NaN\n",
       " (6, 4)  NaN   6   4  NaN  NaN  NaN\n",
       " (6, 5)  NaN   6   5  NaN  NaN  NaN\n",
       " (6, 6)  NaN   6   6  NaN  NaN  NaN)"
      ]
     },
     "execution_count": 49,
     "metadata": {},
     "output_type": "execute_result"
    }
   ],
   "source": [
    "d.d1 = [i[0] for i in d.index]\n",
    "d.d2 = [i[1] for i in d.index]\n",
    "\n",
    "d.head(), d.tail()"
   ]
  },
  {
   "cell_type": "code",
   "execution_count": 50,
   "id": "1d5ddc85-64fd-45fa-a9a6-3a884aa4b921",
   "metadata": {},
   "outputs": [
    {
     "data": {
      "text/html": [
       "<div>\n",
       "<style scoped>\n",
       "    .dataframe tbody tr th:only-of-type {\n",
       "        vertical-align: middle;\n",
       "    }\n",
       "\n",
       "    .dataframe tbody tr th {\n",
       "        vertical-align: top;\n",
       "    }\n",
       "\n",
       "    .dataframe thead th {\n",
       "        text-align: right;\n",
       "    }\n",
       "</style>\n",
       "<table border=\"1\" class=\"dataframe\">\n",
       "  <thead>\n",
       "    <tr style=\"text-align: right;\">\n",
       "      <th></th>\n",
       "      <th>sm</th>\n",
       "      <th>d1</th>\n",
       "      <th>d2</th>\n",
       "      <th>pd1</th>\n",
       "      <th>pd2</th>\n",
       "      <th>p</th>\n",
       "    </tr>\n",
       "  </thead>\n",
       "  <tbody>\n",
       "    <tr>\n",
       "      <th>(1, 1)</th>\n",
       "      <td>2</td>\n",
       "      <td>1</td>\n",
       "      <td>1</td>\n",
       "      <td>NaN</td>\n",
       "      <td>NaN</td>\n",
       "      <td>NaN</td>\n",
       "    </tr>\n",
       "    <tr>\n",
       "      <th>(1, 2)</th>\n",
       "      <td>3</td>\n",
       "      <td>1</td>\n",
       "      <td>2</td>\n",
       "      <td>NaN</td>\n",
       "      <td>NaN</td>\n",
       "      <td>NaN</td>\n",
       "    </tr>\n",
       "    <tr>\n",
       "      <th>(1, 3)</th>\n",
       "      <td>4</td>\n",
       "      <td>1</td>\n",
       "      <td>3</td>\n",
       "      <td>NaN</td>\n",
       "      <td>NaN</td>\n",
       "      <td>NaN</td>\n",
       "    </tr>\n",
       "    <tr>\n",
       "      <th>(1, 4)</th>\n",
       "      <td>5</td>\n",
       "      <td>1</td>\n",
       "      <td>4</td>\n",
       "      <td>NaN</td>\n",
       "      <td>NaN</td>\n",
       "      <td>NaN</td>\n",
       "    </tr>\n",
       "    <tr>\n",
       "      <th>(1, 5)</th>\n",
       "      <td>6</td>\n",
       "      <td>1</td>\n",
       "      <td>5</td>\n",
       "      <td>NaN</td>\n",
       "      <td>NaN</td>\n",
       "      <td>NaN</td>\n",
       "    </tr>\n",
       "  </tbody>\n",
       "</table>\n",
       "</div>"
      ],
      "text/plain": [
       "        sm  d1  d2  pd1  pd2    p\n",
       "(1, 1)   2   1   1  NaN  NaN  NaN\n",
       "(1, 2)   3   1   2  NaN  NaN  NaN\n",
       "(1, 3)   4   1   3  NaN  NaN  NaN\n",
       "(1, 4)   5   1   4  NaN  NaN  NaN\n",
       "(1, 5)   6   1   5  NaN  NaN  NaN"
      ]
     },
     "execution_count": 50,
     "metadata": {},
     "output_type": "execute_result"
    }
   ],
   "source": [
    "d[\"sm\"] = d[\"d1\"] + d[\"d2\"]\n",
    "d.head()"
   ]
  },
  {
   "cell_type": "code",
   "execution_count": 51,
   "id": "22b2266b-01cc-45b8-9855-c745da63ec56",
   "metadata": {},
   "outputs": [
    {
     "data": {
      "text/html": [
       "<div>\n",
       "<style scoped>\n",
       "    .dataframe tbody tr th:only-of-type {\n",
       "        vertical-align: middle;\n",
       "    }\n",
       "\n",
       "    .dataframe tbody tr th {\n",
       "        vertical-align: top;\n",
       "    }\n",
       "\n",
       "    .dataframe thead th {\n",
       "        text-align: right;\n",
       "    }\n",
       "</style>\n",
       "<table border=\"1\" class=\"dataframe\">\n",
       "  <thead>\n",
       "    <tr style=\"text-align: right;\">\n",
       "      <th></th>\n",
       "      <th>sm</th>\n",
       "      <th>d1</th>\n",
       "      <th>d2</th>\n",
       "      <th>pd1</th>\n",
       "      <th>pd2</th>\n",
       "      <th>p</th>\n",
       "    </tr>\n",
       "  </thead>\n",
       "  <tbody>\n",
       "    <tr>\n",
       "      <th>(1, 1)</th>\n",
       "      <td>2</td>\n",
       "      <td>1</td>\n",
       "      <td>1</td>\n",
       "      <td>0.166667</td>\n",
       "      <td>0.166667</td>\n",
       "      <td>0.027778</td>\n",
       "    </tr>\n",
       "    <tr>\n",
       "      <th>(1, 2)</th>\n",
       "      <td>3</td>\n",
       "      <td>1</td>\n",
       "      <td>2</td>\n",
       "      <td>0.166667</td>\n",
       "      <td>0.166667</td>\n",
       "      <td>0.027778</td>\n",
       "    </tr>\n",
       "    <tr>\n",
       "      <th>(1, 3)</th>\n",
       "      <td>4</td>\n",
       "      <td>1</td>\n",
       "      <td>3</td>\n",
       "      <td>0.166667</td>\n",
       "      <td>0.166667</td>\n",
       "      <td>0.027778</td>\n",
       "    </tr>\n",
       "    <tr>\n",
       "      <th>(1, 4)</th>\n",
       "      <td>5</td>\n",
       "      <td>1</td>\n",
       "      <td>4</td>\n",
       "      <td>0.166667</td>\n",
       "      <td>0.166667</td>\n",
       "      <td>0.027778</td>\n",
       "    </tr>\n",
       "    <tr>\n",
       "      <th>(1, 5)</th>\n",
       "      <td>6</td>\n",
       "      <td>1</td>\n",
       "      <td>5</td>\n",
       "      <td>0.166667</td>\n",
       "      <td>0.166667</td>\n",
       "      <td>0.027778</td>\n",
       "    </tr>\n",
       "  </tbody>\n",
       "</table>\n",
       "</div>"
      ],
      "text/plain": [
       "        sm  d1  d2       pd1       pd2         p\n",
       "(1, 1)   2   1   1  0.166667  0.166667  0.027778\n",
       "(1, 2)   3   1   2  0.166667  0.166667  0.027778\n",
       "(1, 3)   4   1   3  0.166667  0.166667  0.027778\n",
       "(1, 4)   5   1   4  0.166667  0.166667  0.027778\n",
       "(1, 5)   6   1   5  0.166667  0.166667  0.027778"
      ]
     },
     "execution_count": 51,
     "metadata": {},
     "output_type": "execute_result"
    }
   ],
   "source": [
    "d[\"pd1\"] = 1/6\n",
    "d[\"pd2\"] = 1/6\n",
    "d[\"p\"] = d[\"pd1\"] * d[\"pd2\"]\n",
    "d.head()"
   ]
  },
  {
   "cell_type": "code",
   "execution_count": 52,
   "id": "6f0ab32a-d1d2-4042-9d8f-d8bf3c8a978a",
   "metadata": {},
   "outputs": [
    {
     "data": {
      "text/plain": [
       "1.0"
      ]
     },
     "execution_count": 52,
     "metadata": {},
     "output_type": "execute_result"
    }
   ],
   "source": [
    "d[\"p\"].sum()"
   ]
  },
  {
   "cell_type": "code",
   "execution_count": 53,
   "id": "3c653bac-f7c0-4112-bbe7-c2158925d292",
   "metadata": {},
   "outputs": [
    {
     "data": {
      "text/plain": [
       "sm\n",
       "2     0.027778\n",
       "3     0.055556\n",
       "4     0.083333\n",
       "5     0.111111\n",
       "6     0.138889\n",
       "7     0.166667\n",
       "8     0.138889\n",
       "9     0.111111\n",
       "10    0.083333\n",
       "11    0.055556\n",
       "12    0.027778\n",
       "Name: p, dtype: float64"
      ]
     },
     "execution_count": 53,
     "metadata": {},
     "output_type": "execute_result"
    }
   ],
   "source": [
    "d.groupby('sm')['p'].sum()"
   ]
  }
 ],
 "metadata": {
  "kernelspec": {
   "display_name": "pymc",
   "language": "python",
   "name": "python3"
  },
  "language_info": {
   "codemirror_mode": {
    "name": "ipython",
    "version": 3
   },
   "file_extension": ".py",
   "mimetype": "text/x-python",
   "name": "python",
   "nbconvert_exporter": "python",
   "pygments_lexer": "ipython3",
   "version": "3.12.3"
  }
 },
 "nbformat": 4,
 "nbformat_minor": 2
}
